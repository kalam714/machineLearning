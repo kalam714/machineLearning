{
 "cells": [
  {
   "cell_type": "code",
   "execution_count": 69,
   "metadata": {},
   "outputs": [],
   "source": [
    "import numpy as np\n",
    "import pandas as pd\n",
    "import seaborn as sns\n",
    "import os, sys\n",
    "from sklearn.preprocessing import MinMaxScaler\n",
    "from sklearn.model_selection import train_test_split\n",
    "from sklearn.metrics import f1_score"
   ]
  },
  {
   "cell_type": "code",
   "execution_count": 70,
   "metadata": {},
   "outputs": [
    {
     "data": {
      "text/plain": [
       "(75, 10)"
      ]
     },
     "execution_count": 70,
     "metadata": {},
     "output_type": "execute_result"
    }
   ],
   "source": [
    "data=pd.read_excel('corpus_PaHaW.xlsx')\n",
    "data.shape"
   ]
  },
  {
   "cell_type": "code",
   "execution_count": 71,
   "metadata": {},
   "outputs": [
    {
     "data": {
      "text/html": [
       "<div>\n",
       "<style scoped>\n",
       "    .dataframe tbody tr th:only-of-type {\n",
       "        vertical-align: middle;\n",
       "    }\n",
       "\n",
       "    .dataframe tbody tr th {\n",
       "        vertical-align: top;\n",
       "    }\n",
       "\n",
       "    .dataframe thead th {\n",
       "        text-align: right;\n",
       "    }\n",
       "</style>\n",
       "<table border=\"1\" class=\"dataframe\">\n",
       "  <thead>\n",
       "    <tr style=\"text-align: right;\">\n",
       "      <th></th>\n",
       "      <th>ID</th>\n",
       "      <th>Nationality</th>\n",
       "      <th>Sex</th>\n",
       "      <th>Disease</th>\n",
       "      <th>PD status</th>\n",
       "      <th>Age</th>\n",
       "      <th>Dominant hand</th>\n",
       "      <th>LED</th>\n",
       "      <th>UPDRS V</th>\n",
       "      <th>Length of PD</th>\n",
       "    </tr>\n",
       "  </thead>\n",
       "  <tbody>\n",
       "    <tr>\n",
       "      <th>70</th>\n",
       "      <td>94</td>\n",
       "      <td>Czech</td>\n",
       "      <td>M</td>\n",
       "      <td>H</td>\n",
       "      <td>NaN</td>\n",
       "      <td>64</td>\n",
       "      <td>R</td>\n",
       "      <td>NaN</td>\n",
       "      <td>NaN</td>\n",
       "      <td>NaN</td>\n",
       "    </tr>\n",
       "    <tr>\n",
       "      <th>71</th>\n",
       "      <td>95</td>\n",
       "      <td>Czech</td>\n",
       "      <td>M</td>\n",
       "      <td>H</td>\n",
       "      <td>NaN</td>\n",
       "      <td>74</td>\n",
       "      <td>R</td>\n",
       "      <td>NaN</td>\n",
       "      <td>NaN</td>\n",
       "      <td>NaN</td>\n",
       "    </tr>\n",
       "    <tr>\n",
       "      <th>72</th>\n",
       "      <td>96</td>\n",
       "      <td>Czech</td>\n",
       "      <td>F</td>\n",
       "      <td>H</td>\n",
       "      <td>NaN</td>\n",
       "      <td>77</td>\n",
       "      <td>R</td>\n",
       "      <td>NaN</td>\n",
       "      <td>NaN</td>\n",
       "      <td>NaN</td>\n",
       "    </tr>\n",
       "    <tr>\n",
       "      <th>73</th>\n",
       "      <td>97</td>\n",
       "      <td>Czech</td>\n",
       "      <td>M</td>\n",
       "      <td>H</td>\n",
       "      <td>NaN</td>\n",
       "      <td>44</td>\n",
       "      <td>R</td>\n",
       "      <td>NaN</td>\n",
       "      <td>NaN</td>\n",
       "      <td>NaN</td>\n",
       "    </tr>\n",
       "    <tr>\n",
       "      <th>74</th>\n",
       "      <td>98</td>\n",
       "      <td>Czech</td>\n",
       "      <td>F</td>\n",
       "      <td>PD</td>\n",
       "      <td>ON</td>\n",
       "      <td>77</td>\n",
       "      <td>R</td>\n",
       "      <td>1210.0</td>\n",
       "      <td>2.0</td>\n",
       "      <td>6.0</td>\n",
       "    </tr>\n",
       "  </tbody>\n",
       "</table>\n",
       "</div>"
      ],
      "text/plain": [
       "    ID Nationality Sex Disease PD status  Age Dominant hand     LED  UPDRS V  \\\n",
       "70  94       Czech   M       H       NaN   64             R     NaN      NaN   \n",
       "71  95       Czech   M       H       NaN   74             R     NaN      NaN   \n",
       "72  96       Czech   F       H       NaN   77             R     NaN      NaN   \n",
       "73  97       Czech   M       H       NaN   44             R     NaN      NaN   \n",
       "74  98       Czech   F      PD        ON   77             R  1210.0      2.0   \n",
       "\n",
       "    Length of PD  \n",
       "70           NaN  \n",
       "71           NaN  \n",
       "72           NaN  \n",
       "73           NaN  \n",
       "74           6.0  "
      ]
     },
     "execution_count": 71,
     "metadata": {},
     "output_type": "execute_result"
    }
   ],
   "source": [
    "data.tail()"
   ]
  },
  {
   "cell_type": "code",
   "execution_count": 85,
   "metadata": {},
   "outputs": [],
   "source": [
    "data=data.replace(to_replace=\"M\",value=1)\n",
    "data=data.replace(to_replace=\"F\",value=0)\n",
    "data=data.replace(to_replace=\"ON\",value=1)\n"
   ]
  },
  {
   "cell_type": "code",
   "execution_count": 88,
   "metadata": {},
   "outputs": [
    {
     "data": {
      "text/html": [
       "<div>\n",
       "<style scoped>\n",
       "    .dataframe tbody tr th:only-of-type {\n",
       "        vertical-align: middle;\n",
       "    }\n",
       "\n",
       "    .dataframe tbody tr th {\n",
       "        vertical-align: top;\n",
       "    }\n",
       "\n",
       "    .dataframe thead th {\n",
       "        text-align: right;\n",
       "    }\n",
       "</style>\n",
       "<table border=\"1\" class=\"dataframe\">\n",
       "  <thead>\n",
       "    <tr style=\"text-align: right;\">\n",
       "      <th></th>\n",
       "      <th>ID</th>\n",
       "      <th>Nationality</th>\n",
       "      <th>Sex</th>\n",
       "      <th>Disease</th>\n",
       "      <th>PD status</th>\n",
       "      <th>Age</th>\n",
       "      <th>Dominant hand</th>\n",
       "      <th>LED</th>\n",
       "      <th>UPDRS V</th>\n",
       "      <th>Length of PD</th>\n",
       "    </tr>\n",
       "  </thead>\n",
       "  <tbody>\n",
       "    <tr>\n",
       "      <th>0</th>\n",
       "      <td>1</td>\n",
       "      <td>Czech</td>\n",
       "      <td>0</td>\n",
       "      <td>PD</td>\n",
       "      <td>1.0</td>\n",
       "      <td>68</td>\n",
       "      <td>R</td>\n",
       "      <td>1115.0</td>\n",
       "      <td>2.0</td>\n",
       "      <td>6.0</td>\n",
       "    </tr>\n",
       "    <tr>\n",
       "      <th>1</th>\n",
       "      <td>2</td>\n",
       "      <td>Czech</td>\n",
       "      <td>0</td>\n",
       "      <td>PD</td>\n",
       "      <td>1.0</td>\n",
       "      <td>78</td>\n",
       "      <td>R</td>\n",
       "      <td>2110.0</td>\n",
       "      <td>2.0</td>\n",
       "      <td>8.0</td>\n",
       "    </tr>\n",
       "    <tr>\n",
       "      <th>2</th>\n",
       "      <td>3</td>\n",
       "      <td>Czech</td>\n",
       "      <td>0</td>\n",
       "      <td>PD</td>\n",
       "      <td>1.0</td>\n",
       "      <td>69</td>\n",
       "      <td>R</td>\n",
       "      <td>1556.6</td>\n",
       "      <td>2.0</td>\n",
       "      <td>7.0</td>\n",
       "    </tr>\n",
       "    <tr>\n",
       "      <th>3</th>\n",
       "      <td>4</td>\n",
       "      <td>Czech</td>\n",
       "      <td>0</td>\n",
       "      <td>PD</td>\n",
       "      <td>1.0</td>\n",
       "      <td>79</td>\n",
       "      <td>R</td>\n",
       "      <td>1691.0</td>\n",
       "      <td>2.0</td>\n",
       "      <td>12.0</td>\n",
       "    </tr>\n",
       "    <tr>\n",
       "      <th>4</th>\n",
       "      <td>5</td>\n",
       "      <td>Czech</td>\n",
       "      <td>0</td>\n",
       "      <td>PD</td>\n",
       "      <td>1.0</td>\n",
       "      <td>69</td>\n",
       "      <td>R</td>\n",
       "      <td>600.0</td>\n",
       "      <td>2.0</td>\n",
       "      <td>2.0</td>\n",
       "    </tr>\n",
       "  </tbody>\n",
       "</table>\n",
       "</div>"
      ],
      "text/plain": [
       "   ID Nationality Sex Disease  PD status  Age Dominant hand     LED  UPDRS V  \\\n",
       "0   1       Czech   0      PD        1.0   68             R  1115.0      2.0   \n",
       "1   2       Czech   0      PD        1.0   78             R  2110.0      2.0   \n",
       "2   3       Czech   0      PD        1.0   69             R  1556.6      2.0   \n",
       "3   4       Czech   0      PD        1.0   79             R  1691.0      2.0   \n",
       "4   5       Czech   0      PD        1.0   69             R   600.0      2.0   \n",
       "\n",
       "   Length of PD  \n",
       "0           6.0  \n",
       "1           8.0  \n",
       "2           7.0  \n",
       "3          12.0  \n",
       "4           2.0  "
      ]
     },
     "execution_count": 88,
     "metadata": {},
     "output_type": "execute_result"
    }
   ],
   "source": [
    "data.head()"
   ]
  },
  {
   "cell_type": "code",
   "execution_count": 87,
   "metadata": {},
   "outputs": [
    {
     "data": {
      "text/plain": [
       "ID                 int64\n",
       "Nationality       object\n",
       "Sex               object\n",
       "Disease           object\n",
       "PD status        float64\n",
       "Age                int64\n",
       "Dominant hand     object\n",
       "LED              float64\n",
       "UPDRS V          float64\n",
       "Length of PD     float64\n",
       "dtype: object"
      ]
     },
     "execution_count": 87,
     "metadata": {},
     "output_type": "execute_result"
    }
   ],
   "source": [
    "data.dtypes"
   ]
  },
  {
   "cell_type": "code",
   "execution_count": null,
   "metadata": {},
   "outputs": [],
   "source": []
  }
 ],
 "metadata": {
  "kernelspec": {
   "display_name": "Python 3",
   "language": "python",
   "name": "python3"
  },
  "language_info": {
   "codemirror_mode": {
    "name": "ipython",
    "version": 3
   },
   "file_extension": ".py",
   "mimetype": "text/x-python",
   "name": "python",
   "nbconvert_exporter": "python",
   "pygments_lexer": "ipython3",
   "version": "3.8.5"
  }
 },
 "nbformat": 4,
 "nbformat_minor": 4
}
