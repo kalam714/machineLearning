{
 "cells": [
  {
   "cell_type": "code",
   "execution_count": 76,
   "metadata": {},
   "outputs": [],
   "source": [
    "import numpy as np\n",
    "import pandas as pd\n",
    "import seaborn as sns\n",
    "import matplotlib.pyplot as plt\n",
    "from sklearn.model_selection import train_test_split\n",
    "%matplotlib inline"
   ]
  },
  {
   "cell_type": "code",
   "execution_count": 77,
   "metadata": {},
   "outputs": [
    {
     "data": {
      "text/html": [
       "<div>\n",
       "<style scoped>\n",
       "    .dataframe tbody tr th:only-of-type {\n",
       "        vertical-align: middle;\n",
       "    }\n",
       "\n",
       "    .dataframe tbody tr th {\n",
       "        vertical-align: top;\n",
       "    }\n",
       "\n",
       "    .dataframe thead th {\n",
       "        text-align: right;\n",
       "    }\n",
       "</style>\n",
       "<table border=\"1\" class=\"dataframe\">\n",
       "  <thead>\n",
       "    <tr style=\"text-align: right;\">\n",
       "      <th></th>\n",
       "      <th>ID</th>\n",
       "      <th>Nationality</th>\n",
       "      <th>Sex</th>\n",
       "      <th>Disease</th>\n",
       "      <th>PD status</th>\n",
       "      <th>Age</th>\n",
       "      <th>Dominant hand</th>\n",
       "      <th>LED</th>\n",
       "      <th>UPDRS V</th>\n",
       "      <th>Length of PD</th>\n",
       "    </tr>\n",
       "  </thead>\n",
       "  <tbody>\n",
       "    <tr>\n",
       "      <th>0</th>\n",
       "      <td>1</td>\n",
       "      <td>Czech</td>\n",
       "      <td>F</td>\n",
       "      <td>PD</td>\n",
       "      <td>ON</td>\n",
       "      <td>68</td>\n",
       "      <td>R</td>\n",
       "      <td>1115.0</td>\n",
       "      <td>2.0</td>\n",
       "      <td>6.0</td>\n",
       "    </tr>\n",
       "    <tr>\n",
       "      <th>1</th>\n",
       "      <td>2</td>\n",
       "      <td>Czech</td>\n",
       "      <td>F</td>\n",
       "      <td>PD</td>\n",
       "      <td>ON</td>\n",
       "      <td>78</td>\n",
       "      <td>R</td>\n",
       "      <td>2110.0</td>\n",
       "      <td>2.0</td>\n",
       "      <td>8.0</td>\n",
       "    </tr>\n",
       "    <tr>\n",
       "      <th>2</th>\n",
       "      <td>3</td>\n",
       "      <td>Czech</td>\n",
       "      <td>F</td>\n",
       "      <td>PD</td>\n",
       "      <td>ON</td>\n",
       "      <td>69</td>\n",
       "      <td>R</td>\n",
       "      <td>1556.6</td>\n",
       "      <td>2.0</td>\n",
       "      <td>7.0</td>\n",
       "    </tr>\n",
       "    <tr>\n",
       "      <th>3</th>\n",
       "      <td>4</td>\n",
       "      <td>Czech</td>\n",
       "      <td>F</td>\n",
       "      <td>PD</td>\n",
       "      <td>ON</td>\n",
       "      <td>79</td>\n",
       "      <td>R</td>\n",
       "      <td>1691.0</td>\n",
       "      <td>2.0</td>\n",
       "      <td>12.0</td>\n",
       "    </tr>\n",
       "    <tr>\n",
       "      <th>4</th>\n",
       "      <td>5</td>\n",
       "      <td>Czech</td>\n",
       "      <td>F</td>\n",
       "      <td>PD</td>\n",
       "      <td>ON</td>\n",
       "      <td>69</td>\n",
       "      <td>R</td>\n",
       "      <td>600.0</td>\n",
       "      <td>2.0</td>\n",
       "      <td>2.0</td>\n",
       "    </tr>\n",
       "  </tbody>\n",
       "</table>\n",
       "</div>"
      ],
      "text/plain": [
       "   ID Nationality Sex Disease PD status  Age Dominant hand     LED  UPDRS V  \\\n",
       "0   1       Czech   F      PD        ON   68             R  1115.0      2.0   \n",
       "1   2       Czech   F      PD        ON   78             R  2110.0      2.0   \n",
       "2   3       Czech   F      PD        ON   69             R  1556.6      2.0   \n",
       "3   4       Czech   F      PD        ON   79             R  1691.0      2.0   \n",
       "4   5       Czech   F      PD        ON   69             R   600.0      2.0   \n",
       "\n",
       "   Length of PD  \n",
       "0           6.0  \n",
       "1           8.0  \n",
       "2           7.0  \n",
       "3          12.0  \n",
       "4           2.0  "
      ]
     },
     "execution_count": 77,
     "metadata": {},
     "output_type": "execute_result"
    }
   ],
   "source": [
    "df = pd.read_excel('PahaW.xlsx')\n",
    "df.shape\n",
    "df.head()\n"
   ]
  },
  {
   "cell_type": "code",
   "execution_count": 78,
   "metadata": {},
   "outputs": [],
   "source": [
    "numerics = ['int16', 'int32','int64', 'float16', 'float32', 'float64','object']\n",
    "numerical_features = list(df.select_dtypes(include=numerics).columns)"
   ]
  },
  {
   "cell_type": "code",
   "execution_count": 79,
   "metadata": {},
   "outputs": [],
   "source": [
    "data = df[numerical_features]"
   ]
  },
  {
   "cell_type": "code",
   "execution_count": 80,
   "metadata": {},
   "outputs": [
    {
     "data": {
      "text/html": [
       "<div>\n",
       "<style scoped>\n",
       "    .dataframe tbody tr th:only-of-type {\n",
       "        vertical-align: middle;\n",
       "    }\n",
       "\n",
       "    .dataframe tbody tr th {\n",
       "        vertical-align: top;\n",
       "    }\n",
       "\n",
       "    .dataframe thead th {\n",
       "        text-align: right;\n",
       "    }\n",
       "</style>\n",
       "<table border=\"1\" class=\"dataframe\">\n",
       "  <thead>\n",
       "    <tr style=\"text-align: right;\">\n",
       "      <th></th>\n",
       "      <th>ID</th>\n",
       "      <th>Nationality</th>\n",
       "      <th>Sex</th>\n",
       "      <th>Disease</th>\n",
       "      <th>PD status</th>\n",
       "      <th>Age</th>\n",
       "      <th>Dominant hand</th>\n",
       "      <th>LED</th>\n",
       "      <th>UPDRS V</th>\n",
       "      <th>Length of PD</th>\n",
       "    </tr>\n",
       "  </thead>\n",
       "  <tbody>\n",
       "    <tr>\n",
       "      <th>0</th>\n",
       "      <td>1</td>\n",
       "      <td>Czech</td>\n",
       "      <td>F</td>\n",
       "      <td>PD</td>\n",
       "      <td>ON</td>\n",
       "      <td>68</td>\n",
       "      <td>R</td>\n",
       "      <td>1115.0</td>\n",
       "      <td>2.0</td>\n",
       "      <td>6.0</td>\n",
       "    </tr>\n",
       "    <tr>\n",
       "      <th>1</th>\n",
       "      <td>2</td>\n",
       "      <td>Czech</td>\n",
       "      <td>F</td>\n",
       "      <td>PD</td>\n",
       "      <td>ON</td>\n",
       "      <td>78</td>\n",
       "      <td>R</td>\n",
       "      <td>2110.0</td>\n",
       "      <td>2.0</td>\n",
       "      <td>8.0</td>\n",
       "    </tr>\n",
       "    <tr>\n",
       "      <th>2</th>\n",
       "      <td>3</td>\n",
       "      <td>Czech</td>\n",
       "      <td>F</td>\n",
       "      <td>PD</td>\n",
       "      <td>ON</td>\n",
       "      <td>69</td>\n",
       "      <td>R</td>\n",
       "      <td>1556.6</td>\n",
       "      <td>2.0</td>\n",
       "      <td>7.0</td>\n",
       "    </tr>\n",
       "    <tr>\n",
       "      <th>3</th>\n",
       "      <td>4</td>\n",
       "      <td>Czech</td>\n",
       "      <td>F</td>\n",
       "      <td>PD</td>\n",
       "      <td>ON</td>\n",
       "      <td>79</td>\n",
       "      <td>R</td>\n",
       "      <td>1691.0</td>\n",
       "      <td>2.0</td>\n",
       "      <td>12.0</td>\n",
       "    </tr>\n",
       "    <tr>\n",
       "      <th>4</th>\n",
       "      <td>5</td>\n",
       "      <td>Czech</td>\n",
       "      <td>F</td>\n",
       "      <td>PD</td>\n",
       "      <td>ON</td>\n",
       "      <td>69</td>\n",
       "      <td>R</td>\n",
       "      <td>600.0</td>\n",
       "      <td>2.0</td>\n",
       "      <td>2.0</td>\n",
       "    </tr>\n",
       "  </tbody>\n",
       "</table>\n",
       "</div>"
      ],
      "text/plain": [
       "   ID Nationality Sex Disease PD status  Age Dominant hand     LED  UPDRS V  \\\n",
       "0   1       Czech   F      PD        ON   68             R  1115.0      2.0   \n",
       "1   2       Czech   F      PD        ON   78             R  2110.0      2.0   \n",
       "2   3       Czech   F      PD        ON   69             R  1556.6      2.0   \n",
       "3   4       Czech   F      PD        ON   79             R  1691.0      2.0   \n",
       "4   5       Czech   F      PD        ON   69             R   600.0      2.0   \n",
       "\n",
       "   Length of PD  \n",
       "0           6.0  \n",
       "1           8.0  \n",
       "2           7.0  \n",
       "3          12.0  \n",
       "4           2.0  "
      ]
     },
     "execution_count": 80,
     "metadata": {},
     "output_type": "execute_result"
    }
   ],
   "source": [
    "data.head()"
   ]
  },
  {
   "cell_type": "code",
   "execution_count": 81,
   "metadata": {},
   "outputs": [
    {
     "data": {
      "text/plain": [
       "(75, 4)"
      ]
     },
     "execution_count": 81,
     "metadata": {},
     "output_type": "execute_result"
    }
   ],
   "source": [
    "X = data.drop(['Nationality','Sex','Disease','PD status','Dominant hand','ID'], axis=1)\n",
    "X.shape"
   ]
  },
  {
   "cell_type": "code",
   "execution_count": 82,
   "metadata": {},
   "outputs": [
    {
     "data": {
      "text/plain": [
       "(75,)"
      ]
     },
     "execution_count": 82,
     "metadata": {},
     "output_type": "execute_result"
    }
   ],
   "source": [
    "y = data['PD status']\n",
    "y.shape"
   ]
  },
  {
   "cell_type": "code",
   "execution_count": 83,
   "metadata": {},
   "outputs": [
    {
     "data": {
      "text/plain": [
       "((52, 4), (52,), (23, 4), (23,))"
      ]
     },
     "execution_count": 83,
     "metadata": {},
     "output_type": "execute_result"
    }
   ],
   "source": [
    "X_train, X_test, y_train, y_test = train_test_split(X, y, test_size=0.3, random_state=101)\n",
    "X_train.shape, y_train.shape, X_test.shape, y_test.shape"
   ]
  },
  {
   "cell_type": "code",
   "execution_count": 84,
   "metadata": {},
   "outputs": [
    {
     "data": {
      "text/plain": [
       "<AxesSubplot:>"
      ]
     },
     "execution_count": 84,
     "metadata": {},
     "output_type": "execute_result"
    },
    {
     "data": {
      "image/png": "[encoded data removed]",
      "text/plain": [
       "<Figure size 792x792 with 2 Axes>"
      ]
     },
     "metadata": {
      "needs_background": "light"
     },
     "output_type": "display_data"
    }
   ],
   "source": [
    "corr = X_train.corr()\n",
    "fig, ax = plt.subplots()\n",
    "fig.set_size_inches(11,11)\n",
    "sns.heatmap(corr)"
   ]
  },
  {
   "cell_type": "code",
   "execution_count": 85,
   "metadata": {},
   "outputs": [],
   "source": [
    "def correlation(data, threshold=None):\n",
    "    # Set of all names of correlated columns\n",
    "    col_corr = set()\n",
    "    corr_mat = data.corr()\n",
    "    for i in range(len(corr_mat.columns)):\n",
    "        for j in range(i):\n",
    "            if (abs(corr_mat.iloc[i,j]) > threshold):\n",
    "                colname = corr_mat.columns[i]\n",
    "                col_corr.add(colname)\n",
    "    return col_corr"
   ]
  },
  {
   "cell_type": "code",
   "execution_count": 86,
   "metadata": {},
   "outputs": [
    {
     "data": {
      "text/plain": [
       "2"
      ]
     },
     "execution_count": 86,
     "metadata": {},
     "output_type": "execute_result"
    }
   ],
   "source": [
    "correlated_features = correlation(data=X_train, threshold=.2)\n",
    "len(set(correlated_features))"
   ]
  },
  {
   "cell_type": "code",
   "execution_count": 87,
   "metadata": {},
   "outputs": [
    {
     "name": "stderr",
     "output_type": "stream",
     "text": [
      "C:\\Users\\lenovo\\anaconda3\\lib\\site-packages\\pandas\\core\\frame.py:4163: SettingWithCopyWarning: \n",
      "A value is trying to be set on a copy of a slice from a DataFrame\n",
      "\n",
      "See the caveats in the documentation: https://pandas.pydata.org/pandas-docs/stable/user_guide/indexing.html#returning-a-view-versus-a-copy\n",
      "  return super().drop(\n"
     ]
    },
    {
     "data": {
      "text/plain": [
       "((52, 2), (23, 2))"
      ]
     },
     "execution_count": 87,
     "metadata": {},
     "output_type": "execute_result"
    }
   ],
   "source": [
    "X_train.drop(labels=correlated_features, axis=1, inplace=True)\n",
    "X_test.drop(labels=correlated_features, axis=1, inplace=True)\n",
    "\n",
    "X_train.shape, X_test.shape"
   ]
  },
  {
   "cell_type": "code",
   "execution_count": 88,
   "metadata": {},
   "outputs": [
    {
     "data": {
      "text/html": [
       "<div>\n",
       "<style scoped>\n",
       "    .dataframe tbody tr th:only-of-type {\n",
       "        vertical-align: middle;\n",
       "    }\n",
       "\n",
       "    .dataframe tbody tr th {\n",
       "        vertical-align: top;\n",
       "    }\n",
       "\n",
       "    .dataframe thead th {\n",
       "        text-align: right;\n",
       "    }\n",
       "</style>\n",
       "<table border=\"1\" class=\"dataframe\">\n",
       "  <thead>\n",
       "    <tr style=\"text-align: right;\">\n",
       "      <th></th>\n",
       "      <th>ID</th>\n",
       "      <th>Nationality</th>\n",
       "      <th>Sex</th>\n",
       "      <th>Disease</th>\n",
       "      <th>PD status</th>\n",
       "      <th>Age</th>\n",
       "      <th>Dominant hand</th>\n",
       "      <th>LED</th>\n",
       "      <th>UPDRS V</th>\n",
       "      <th>Length of PD</th>\n",
       "    </tr>\n",
       "  </thead>\n",
       "  <tbody>\n",
       "    <tr>\n",
       "      <th>0</th>\n",
       "      <td>1</td>\n",
       "      <td>Czech</td>\n",
       "      <td>F</td>\n",
       "      <td>PD</td>\n",
       "      <td>ON</td>\n",
       "      <td>68</td>\n",
       "      <td>R</td>\n",
       "      <td>1115.0</td>\n",
       "      <td>2.0</td>\n",
       "      <td>6.0</td>\n",
       "    </tr>\n",
       "    <tr>\n",
       "      <th>1</th>\n",
       "      <td>2</td>\n",
       "      <td>Czech</td>\n",
       "      <td>F</td>\n",
       "      <td>PD</td>\n",
       "      <td>ON</td>\n",
       "      <td>78</td>\n",
       "      <td>R</td>\n",
       "      <td>2110.0</td>\n",
       "      <td>2.0</td>\n",
       "      <td>8.0</td>\n",
       "    </tr>\n",
       "    <tr>\n",
       "      <th>2</th>\n",
       "      <td>3</td>\n",
       "      <td>Czech</td>\n",
       "      <td>F</td>\n",
       "      <td>PD</td>\n",
       "      <td>ON</td>\n",
       "      <td>69</td>\n",
       "      <td>R</td>\n",
       "      <td>1556.6</td>\n",
       "      <td>2.0</td>\n",
       "      <td>7.0</td>\n",
       "    </tr>\n",
       "    <tr>\n",
       "      <th>3</th>\n",
       "      <td>4</td>\n",
       "      <td>Czech</td>\n",
       "      <td>F</td>\n",
       "      <td>PD</td>\n",
       "      <td>ON</td>\n",
       "      <td>79</td>\n",
       "      <td>R</td>\n",
       "      <td>1691.0</td>\n",
       "      <td>2.0</td>\n",
       "      <td>12.0</td>\n",
       "    </tr>\n",
       "    <tr>\n",
       "      <th>4</th>\n",
       "      <td>5</td>\n",
       "      <td>Czech</td>\n",
       "      <td>F</td>\n",
       "      <td>PD</td>\n",
       "      <td>ON</td>\n",
       "      <td>69</td>\n",
       "      <td>R</td>\n",
       "      <td>600.0</td>\n",
       "      <td>2.0</td>\n",
       "      <td>2.0</td>\n",
       "    </tr>\n",
       "  </tbody>\n",
       "</table>\n",
       "</div>"
      ],
      "text/plain": [
       "   ID Nationality Sex Disease PD status  Age Dominant hand     LED  UPDRS V  \\\n",
       "0   1       Czech   F      PD        ON   68             R  1115.0      2.0   \n",
       "1   2       Czech   F      PD        ON   78             R  2110.0      2.0   \n",
       "2   3       Czech   F      PD        ON   69             R  1556.6      2.0   \n",
       "3   4       Czech   F      PD        ON   79             R  1691.0      2.0   \n",
       "4   5       Czech   F      PD        ON   69             R   600.0      2.0   \n",
       "\n",
       "   Length of PD  \n",
       "0           6.0  \n",
       "1           8.0  \n",
       "2           7.0  \n",
       "3          12.0  \n",
       "4           2.0  "
      ]
     },
     "execution_count": 88,
     "metadata": {},
     "output_type": "execute_result"
    }
   ],
   "source": [
    "df = pd.read_excel('PahaW.xlsx')\n",
    "df.shape\n",
    "df.head()"
   ]
  },
  {
   "cell_type": "code",
   "execution_count": 89,
   "metadata": {},
   "outputs": [],
   "source": [
    "numerics = ['int16', 'int32','int64', 'float16', 'float32', 'float64','object']\n",
    "numerical_features = list(df.select_dtypes(include=numerics).columns)"
   ]
  },
  {
   "cell_type": "code",
   "execution_count": 90,
   "metadata": {},
   "outputs": [
    {
     "data": {
      "text/plain": [
       "(75, 4)"
      ]
     },
     "execution_count": 90,
     "metadata": {},
     "output_type": "execute_result"
    }
   ],
   "source": [
    "X = data.drop(['Nationality','Sex','Disease','PD status','Dominant hand','ID'], axis=1)\n",
    "X.shape"
   ]
  },
  {
   "cell_type": "code",
   "execution_count": 91,
   "metadata": {},
   "outputs": [
    {
     "data": {
      "text/plain": [
       "(75,)"
      ]
     },
     "execution_count": 91,
     "metadata": {},
     "output_type": "execute_result"
    }
   ],
   "source": [
    "y = data['PD status']\n",
    "y.shape"
   ]
  },
  {
   "cell_type": "code",
   "execution_count": 92,
   "metadata": {},
   "outputs": [
    {
     "data": {
      "text/plain": [
       "((52, 4), (52,), (23, 4), (23,))"
      ]
     },
     "execution_count": 92,
     "metadata": {},
     "output_type": "execute_result"
    }
   ],
   "source": [
    "X_train, X_test, y_train, y_test = train_test_split(X, y, test_size=0.3, random_state=101)\n",
    "X_train.shape, y_train.shape, X_test.shape, y_test.shape"
   ]
  },
  {
   "cell_type": "code",
   "execution_count": 93,
   "metadata": {},
   "outputs": [
    {
     "data": {
      "text/html": [
       "<div>\n",
       "<style scoped>\n",
       "    .dataframe tbody tr th:only-of-type {\n",
       "        vertical-align: middle;\n",
       "    }\n",
       "\n",
       "    .dataframe tbody tr th {\n",
       "        vertical-align: top;\n",
       "    }\n",
       "\n",
       "    .dataframe thead th {\n",
       "        text-align: right;\n",
       "    }\n",
       "</style>\n",
       "<table border=\"1\" class=\"dataframe\">\n",
       "  <thead>\n",
       "    <tr style=\"text-align: right;\">\n",
       "      <th></th>\n",
       "      <th>feature1</th>\n",
       "      <th>feature2</th>\n",
       "      <th>Correlation</th>\n",
       "    </tr>\n",
       "  </thead>\n",
       "  <tbody>\n",
       "    <tr>\n",
       "      <th>0</th>\n",
       "      <td>Length of PD</td>\n",
       "      <td>UPDRS V</td>\n",
       "      <td>0.361510</td>\n",
       "    </tr>\n",
       "    <tr>\n",
       "      <th>1</th>\n",
       "      <td>UPDRS V</td>\n",
       "      <td>Length of PD</td>\n",
       "      <td>0.361510</td>\n",
       "    </tr>\n",
       "    <tr>\n",
       "      <th>2</th>\n",
       "      <td>UPDRS V</td>\n",
       "      <td>LED</td>\n",
       "      <td>0.360039</td>\n",
       "    </tr>\n",
       "    <tr>\n",
       "      <th>3</th>\n",
       "      <td>LED</td>\n",
       "      <td>UPDRS V</td>\n",
       "      <td>0.360039</td>\n",
       "    </tr>\n",
       "  </tbody>\n",
       "</table>\n",
       "</div>"
      ],
      "text/plain": [
       "       feature1      feature2  Correlation\n",
       "0  Length of PD       UPDRS V     0.361510\n",
       "1       UPDRS V  Length of PD     0.361510\n",
       "2       UPDRS V           LED     0.360039\n",
       "3           LED       UPDRS V     0.360039"
      ]
     },
     "execution_count": 93,
     "metadata": {},
     "output_type": "execute_result"
    }
   ],
   "source": [
    "# Build a Dataframe with Correlation between Features\n",
    "corr_matrix = X_train.corr()\n",
    "# Take absolute values of correlated coefficients\n",
    "corr_matrix = corr_matrix.abs().unstack()\n",
    "corr_matrix = corr_matrix.sort_values(ascending=False)\n",
    "# Take only features with correlation above threshold of 0.8\n",
    "corr_matrix = corr_matrix[corr_matrix >= 0.2]\n",
    "corr_matrix = corr_matrix[corr_matrix < 1]\n",
    "corr_matrix = pd.DataFrame(corr_matrix).reset_index()\n",
    "corr_matrix.columns = ['feature1', 'feature2', 'Correlation']\n",
    "corr_matrix.head()"
   ]
  },
  {
   "cell_type": "code",
   "execution_count": 94,
   "metadata": {},
   "outputs": [
    {
     "name": "stdout",
     "output_type": "stream",
     "text": [
      "Found 2 correlated feature groups\n",
      "out of 4 total features.\n"
     ]
    }
   ],
   "source": [
    "grouped_features = []\n",
    "correlated_groups = []\n",
    "\n",
    "for feature in corr_matrix.feature1.unique():\n",
    "    if feature not in grouped_features:\n",
    "        # Find all features correlated to a single feature\n",
    "        correlated_block = corr_matrix[corr_matrix.feature1 == feature]\n",
    "        grouped_features = grouped_features + list(correlated_block.feature2.unique()) + [feature]\n",
    "        \n",
    "        # Append block of features to the list\n",
    "        correlated_groups.append(correlated_block)\n",
    "\n",
    "print('Found {} correlated feature groups'.format(len(correlated_groups)))\n",
    "print('out of {} total features.'.format(X_train.shape[1]))"
   ]
  },
  {
   "cell_type": "code",
   "execution_count": 95,
   "metadata": {},
   "outputs": [
    {
     "name": "stdout",
     "output_type": "stream",
     "text": [
      "       feature1 feature2  Correlation\n",
      "0  Length of PD  UPDRS V      0.36151\n",
      "\n",
      "\n",
      "  feature1 feature2  Correlation\n",
      "3      LED  UPDRS V     0.360039\n",
      "\n",
      "\n"
     ]
    }
   ],
   "source": [
    "# Visualize Correlated Feature Groups\n",
    "for group in correlated_groups:\n",
    "    print(group)\n",
    "    print('\\n')"
   ]
  }
 ],
 "metadata": {
  "kernelspec": {
   "display_name": "Python 3",
   "language": "python",
   "name": "python3"
  },
  "language_info": {
   "codemirror_mode": {
    "name": "ipython",
    "version": 3
   },
   "file_extension": ".py",
   "mimetype": "text/x-python",
   "name": "python",
   "nbconvert_exporter": "python",
   "pygments_lexer": "ipython3",
   "version": "3.8.5"
  }
 },
 "nbformat": 4,
 "nbformat_minor": 4
}
