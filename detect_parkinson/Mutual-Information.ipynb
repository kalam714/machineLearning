{
 "cells": [
  {
   "cell_type": "code",
   "execution_count": 1,
   "metadata": {},
   "outputs": [],
   "source": [
    "# Import Dependencies\n",
    "import pandas as pd\n",
    "import numpy as np\n",
    "import matplotlib.pyplot as plt\n",
    "import seaborn as sns\n",
    "from sklearn.model_selection import train_test_split\n",
    "# mutual_info_classif, mutual_info_regression: Functions for calculating Mutual Information Between classes and the target\n",
    "from sklearn.feature_selection import mutual_info_classif, mutual_info_regression\n",
    "from sklearn.feature_selection import SelectKBest, SelectPercentile\n",
    "%matplotlib inline"
   ]
  },
  {
   "cell_type": "code",
   "execution_count": 2,
   "metadata": {},
   "outputs": [
    {
     "data": {
      "text/plain": [
       "(40, 31)"
      ]
     },
     "execution_count": 2,
     "metadata": {},
     "output_type": "execute_result"
    }
   ],
   "source": [
    "df = pd.read_csv('data.csv')\n",
    "df.shape"
   ]
  },
  {
   "cell_type": "code",
   "execution_count": 3,
   "metadata": {},
   "outputs": [
    {
     "data": {
      "text/html": [
       "<div>\n",
       "<style scoped>\n",
       "    .dataframe tbody tr th:only-of-type {\n",
       "        vertical-align: middle;\n",
       "    }\n",
       "\n",
       "    .dataframe tbody tr th {\n",
       "        vertical-align: top;\n",
       "    }\n",
       "\n",
       "    .dataframe thead th {\n",
       "        text-align: right;\n",
       "    }\n",
       "</style>\n",
       "<table border=\"1\" class=\"dataframe\">\n",
       "  <thead>\n",
       "    <tr style=\"text-align: right;\">\n",
       "      <th></th>\n",
       "      <th>Unnamed: 0</th>\n",
       "      <th>no_strokes_st</th>\n",
       "      <th>no_strokes_dy</th>\n",
       "      <th>speed_st</th>\n",
       "      <th>speed_dy</th>\n",
       "      <th>magnitude_vel_st</th>\n",
       "      <th>magnitude_horz_vel_st</th>\n",
       "      <th>magnitude_vert_vel_st</th>\n",
       "      <th>magnitude_vel_dy</th>\n",
       "      <th>magnitude_horz_vel_dy</th>\n",
       "      <th>...</th>\n",
       "      <th>magnitude_horz_jerk_dy</th>\n",
       "      <th>magnitude_vert_jerk_dy</th>\n",
       "      <th>ncv_st</th>\n",
       "      <th>ncv_dy</th>\n",
       "      <th>nca_st</th>\n",
       "      <th>nca_dy</th>\n",
       "      <th>in_air_stcp</th>\n",
       "      <th>on_surface_st</th>\n",
       "      <th>on_surface_dy</th>\n",
       "      <th>target</th>\n",
       "    </tr>\n",
       "  </thead>\n",
       "  <tbody>\n",
       "    <tr>\n",
       "      <th>0</th>\n",
       "      <td>0</td>\n",
       "      <td>2.0</td>\n",
       "      <td>2.0</td>\n",
       "      <td>0.010988</td>\n",
       "      <td>0.009758</td>\n",
       "      <td>0.167357</td>\n",
       "      <td>0.116687</td>\n",
       "      <td>0.094172</td>\n",
       "      <td>0.201030</td>\n",
       "      <td>0.138797</td>\n",
       "      <td>...</td>\n",
       "      <td>0.000006</td>\n",
       "      <td>0.000004</td>\n",
       "      <td>143.166667</td>\n",
       "      <td>308.000000</td>\n",
       "      <td>28.000000</td>\n",
       "      <td>65.000000</td>\n",
       "      <td>176.0</td>\n",
       "      <td>952.0</td>\n",
       "      <td>689.0</td>\n",
       "      <td>1.0</td>\n",
       "    </tr>\n",
       "    <tr>\n",
       "      <th>1</th>\n",
       "      <td>1</td>\n",
       "      <td>52.0</td>\n",
       "      <td>10.0</td>\n",
       "      <td>0.006874</td>\n",
       "      <td>0.006669</td>\n",
       "      <td>0.082170</td>\n",
       "      <td>0.053652</td>\n",
       "      <td>0.050760</td>\n",
       "      <td>0.071314</td>\n",
       "      <td>0.047286</td>\n",
       "      <td>...</td>\n",
       "      <td>0.000004</td>\n",
       "      <td>0.000003</td>\n",
       "      <td>317.000000</td>\n",
       "      <td>345.200000</td>\n",
       "      <td>81.000000</td>\n",
       "      <td>83.333333</td>\n",
       "      <td>0.0</td>\n",
       "      <td>2107.0</td>\n",
       "      <td>2506.0</td>\n",
       "      <td>1.0</td>\n",
       "    </tr>\n",
       "    <tr>\n",
       "      <th>2</th>\n",
       "      <td>2</td>\n",
       "      <td>22.0</td>\n",
       "      <td>12.0</td>\n",
       "      <td>0.001636</td>\n",
       "      <td>0.001620</td>\n",
       "      <td>0.128316</td>\n",
       "      <td>0.083959</td>\n",
       "      <td>0.079109</td>\n",
       "      <td>0.068212</td>\n",
       "      <td>0.042802</td>\n",
       "      <td>...</td>\n",
       "      <td>0.000003</td>\n",
       "      <td>0.000003</td>\n",
       "      <td>205.714286</td>\n",
       "      <td>262.285714</td>\n",
       "      <td>53.666667</td>\n",
       "      <td>83.000000</td>\n",
       "      <td>206.0</td>\n",
       "      <td>1369.0</td>\n",
       "      <td>2807.0</td>\n",
       "      <td>1.0</td>\n",
       "    </tr>\n",
       "    <tr>\n",
       "      <th>3</th>\n",
       "      <td>3</td>\n",
       "      <td>2.0</td>\n",
       "      <td>6.0</td>\n",
       "      <td>0.001793</td>\n",
       "      <td>0.001434</td>\n",
       "      <td>0.041127</td>\n",
       "      <td>0.026362</td>\n",
       "      <td>0.025751</td>\n",
       "      <td>0.059535</td>\n",
       "      <td>0.037716</td>\n",
       "      <td>...</td>\n",
       "      <td>0.000002</td>\n",
       "      <td>0.000002</td>\n",
       "      <td>315.714286</td>\n",
       "      <td>299.666667</td>\n",
       "      <td>212.000000</td>\n",
       "      <td>285.000000</td>\n",
       "      <td>705.0</td>\n",
       "      <td>4025.0</td>\n",
       "      <td>2487.0</td>\n",
       "      <td>1.0</td>\n",
       "    </tr>\n",
       "    <tr>\n",
       "      <th>4</th>\n",
       "      <td>4</td>\n",
       "      <td>4.0</td>\n",
       "      <td>6.0</td>\n",
       "      <td>0.010127</td>\n",
       "      <td>0.009184</td>\n",
       "      <td>0.054456</td>\n",
       "      <td>0.035698</td>\n",
       "      <td>0.033174</td>\n",
       "      <td>0.076065</td>\n",
       "      <td>0.049734</td>\n",
       "      <td>...</td>\n",
       "      <td>0.000002</td>\n",
       "      <td>0.000002</td>\n",
       "      <td>210.300000</td>\n",
       "      <td>319.500000</td>\n",
       "      <td>67.200000</td>\n",
       "      <td>262.000000</td>\n",
       "      <td>1221.0</td>\n",
       "      <td>2712.0</td>\n",
       "      <td>2337.0</td>\n",
       "      <td>1.0</td>\n",
       "    </tr>\n",
       "  </tbody>\n",
       "</table>\n",
       "<p>5 rows × 31 columns</p>\n",
       "</div>"
      ],
      "text/plain": [
       "   Unnamed: 0  no_strokes_st  no_strokes_dy  speed_st  speed_dy  \\\n",
       "0           0            2.0            2.0  0.010988  0.009758   \n",
       "1           1           52.0           10.0  0.006874  0.006669   \n",
       "2           2           22.0           12.0  0.001636  0.001620   \n",
       "3           3            2.0            6.0  0.001793  0.001434   \n",
       "4           4            4.0            6.0  0.010127  0.009184   \n",
       "\n",
       "   magnitude_vel_st  magnitude_horz_vel_st  magnitude_vert_vel_st  \\\n",
       "0          0.167357               0.116687               0.094172   \n",
       "1          0.082170               0.053652               0.050760   \n",
       "2          0.128316               0.083959               0.079109   \n",
       "3          0.041127               0.026362               0.025751   \n",
       "4          0.054456               0.035698               0.033174   \n",
       "\n",
       "   magnitude_vel_dy  magnitude_horz_vel_dy  ...  magnitude_horz_jerk_dy  \\\n",
       "0          0.201030               0.138797  ...                0.000006   \n",
       "1          0.071314               0.047286  ...                0.000004   \n",
       "2          0.068212               0.042802  ...                0.000003   \n",
       "3          0.059535               0.037716  ...                0.000002   \n",
       "4          0.076065               0.049734  ...                0.000002   \n",
       "\n",
       "   magnitude_vert_jerk_dy      ncv_st      ncv_dy      nca_st      nca_dy  \\\n",
       "0                0.000004  143.166667  308.000000   28.000000   65.000000   \n",
       "1                0.000003  317.000000  345.200000   81.000000   83.333333   \n",
       "2                0.000003  205.714286  262.285714   53.666667   83.000000   \n",
       "3                0.000002  315.714286  299.666667  212.000000  285.000000   \n",
       "4                0.000002  210.300000  319.500000   67.200000  262.000000   \n",
       "\n",
       "   in_air_stcp  on_surface_st  on_surface_dy  target  \n",
       "0        176.0          952.0          689.0     1.0  \n",
       "1          0.0         2107.0         2506.0     1.0  \n",
       "2        206.0         1369.0         2807.0     1.0  \n",
       "3        705.0         4025.0         2487.0     1.0  \n",
       "4       1221.0         2712.0         2337.0     1.0  \n",
       "\n",
       "[5 rows x 31 columns]"
      ]
     },
     "execution_count": 3,
     "metadata": {},
     "output_type": "execute_result"
    }
   ],
   "source": [
    "\n",
    "df.head()"
   ]
  },
  {
   "cell_type": "code",
   "execution_count": 4,
   "metadata": {},
   "outputs": [],
   "source": [
    "numerics = ['int16', 'int32','int64', 'float16', 'float32', 'float64']\n",
    "numerical_features = list(df.select_dtypes(include=numerics).columns)"
   ]
  },
  {
   "cell_type": "code",
   "execution_count": 6,
   "metadata": {},
   "outputs": [
    {
     "data": {
      "text/html": [
       "<div>\n",
       "<style scoped>\n",
       "    .dataframe tbody tr th:only-of-type {\n",
       "        vertical-align: middle;\n",
       "    }\n",
       "\n",
       "    .dataframe tbody tr th {\n",
       "        vertical-align: top;\n",
       "    }\n",
       "\n",
       "    .dataframe thead th {\n",
       "        text-align: right;\n",
       "    }\n",
       "</style>\n",
       "<table border=\"1\" class=\"dataframe\">\n",
       "  <thead>\n",
       "    <tr style=\"text-align: right;\">\n",
       "      <th></th>\n",
       "      <th>Unnamed: 0</th>\n",
       "      <th>no_strokes_st</th>\n",
       "      <th>no_strokes_dy</th>\n",
       "      <th>speed_st</th>\n",
       "      <th>speed_dy</th>\n",
       "      <th>magnitude_vel_st</th>\n",
       "      <th>magnitude_horz_vel_st</th>\n",
       "      <th>magnitude_vert_vel_st</th>\n",
       "      <th>magnitude_vel_dy</th>\n",
       "      <th>magnitude_horz_vel_dy</th>\n",
       "      <th>...</th>\n",
       "      <th>magnitude_horz_jerk_dy</th>\n",
       "      <th>magnitude_vert_jerk_dy</th>\n",
       "      <th>ncv_st</th>\n",
       "      <th>ncv_dy</th>\n",
       "      <th>nca_st</th>\n",
       "      <th>nca_dy</th>\n",
       "      <th>in_air_stcp</th>\n",
       "      <th>on_surface_st</th>\n",
       "      <th>on_surface_dy</th>\n",
       "      <th>target</th>\n",
       "    </tr>\n",
       "  </thead>\n",
       "  <tbody>\n",
       "    <tr>\n",
       "      <th>0</th>\n",
       "      <td>0</td>\n",
       "      <td>2.0</td>\n",
       "      <td>2.0</td>\n",
       "      <td>0.010988</td>\n",
       "      <td>0.009758</td>\n",
       "      <td>0.167357</td>\n",
       "      <td>0.116687</td>\n",
       "      <td>0.094172</td>\n",
       "      <td>0.201030</td>\n",
       "      <td>0.138797</td>\n",
       "      <td>...</td>\n",
       "      <td>0.000006</td>\n",
       "      <td>0.000004</td>\n",
       "      <td>143.166667</td>\n",
       "      <td>308.000000</td>\n",
       "      <td>28.000000</td>\n",
       "      <td>65.000000</td>\n",
       "      <td>176.0</td>\n",
       "      <td>952.0</td>\n",
       "      <td>689.0</td>\n",
       "      <td>1.0</td>\n",
       "    </tr>\n",
       "    <tr>\n",
       "      <th>1</th>\n",
       "      <td>1</td>\n",
       "      <td>52.0</td>\n",
       "      <td>10.0</td>\n",
       "      <td>0.006874</td>\n",
       "      <td>0.006669</td>\n",
       "      <td>0.082170</td>\n",
       "      <td>0.053652</td>\n",
       "      <td>0.050760</td>\n",
       "      <td>0.071314</td>\n",
       "      <td>0.047286</td>\n",
       "      <td>...</td>\n",
       "      <td>0.000004</td>\n",
       "      <td>0.000003</td>\n",
       "      <td>317.000000</td>\n",
       "      <td>345.200000</td>\n",
       "      <td>81.000000</td>\n",
       "      <td>83.333333</td>\n",
       "      <td>0.0</td>\n",
       "      <td>2107.0</td>\n",
       "      <td>2506.0</td>\n",
       "      <td>1.0</td>\n",
       "    </tr>\n",
       "    <tr>\n",
       "      <th>2</th>\n",
       "      <td>2</td>\n",
       "      <td>22.0</td>\n",
       "      <td>12.0</td>\n",
       "      <td>0.001636</td>\n",
       "      <td>0.001620</td>\n",
       "      <td>0.128316</td>\n",
       "      <td>0.083959</td>\n",
       "      <td>0.079109</td>\n",
       "      <td>0.068212</td>\n",
       "      <td>0.042802</td>\n",
       "      <td>...</td>\n",
       "      <td>0.000003</td>\n",
       "      <td>0.000003</td>\n",
       "      <td>205.714286</td>\n",
       "      <td>262.285714</td>\n",
       "      <td>53.666667</td>\n",
       "      <td>83.000000</td>\n",
       "      <td>206.0</td>\n",
       "      <td>1369.0</td>\n",
       "      <td>2807.0</td>\n",
       "      <td>1.0</td>\n",
       "    </tr>\n",
       "    <tr>\n",
       "      <th>3</th>\n",
       "      <td>3</td>\n",
       "      <td>2.0</td>\n",
       "      <td>6.0</td>\n",
       "      <td>0.001793</td>\n",
       "      <td>0.001434</td>\n",
       "      <td>0.041127</td>\n",
       "      <td>0.026362</td>\n",
       "      <td>0.025751</td>\n",
       "      <td>0.059535</td>\n",
       "      <td>0.037716</td>\n",
       "      <td>...</td>\n",
       "      <td>0.000002</td>\n",
       "      <td>0.000002</td>\n",
       "      <td>315.714286</td>\n",
       "      <td>299.666667</td>\n",
       "      <td>212.000000</td>\n",
       "      <td>285.000000</td>\n",
       "      <td>705.0</td>\n",
       "      <td>4025.0</td>\n",
       "      <td>2487.0</td>\n",
       "      <td>1.0</td>\n",
       "    </tr>\n",
       "    <tr>\n",
       "      <th>4</th>\n",
       "      <td>4</td>\n",
       "      <td>4.0</td>\n",
       "      <td>6.0</td>\n",
       "      <td>0.010127</td>\n",
       "      <td>0.009184</td>\n",
       "      <td>0.054456</td>\n",
       "      <td>0.035698</td>\n",
       "      <td>0.033174</td>\n",
       "      <td>0.076065</td>\n",
       "      <td>0.049734</td>\n",
       "      <td>...</td>\n",
       "      <td>0.000002</td>\n",
       "      <td>0.000002</td>\n",
       "      <td>210.300000</td>\n",
       "      <td>319.500000</td>\n",
       "      <td>67.200000</td>\n",
       "      <td>262.000000</td>\n",
       "      <td>1221.0</td>\n",
       "      <td>2712.0</td>\n",
       "      <td>2337.0</td>\n",
       "      <td>1.0</td>\n",
       "    </tr>\n",
       "  </tbody>\n",
       "</table>\n",
       "<p>5 rows × 31 columns</p>\n",
       "</div>"
      ],
      "text/plain": [
       "   Unnamed: 0  no_strokes_st  no_strokes_dy  speed_st  speed_dy  \\\n",
       "0           0            2.0            2.0  0.010988  0.009758   \n",
       "1           1           52.0           10.0  0.006874  0.006669   \n",
       "2           2           22.0           12.0  0.001636  0.001620   \n",
       "3           3            2.0            6.0  0.001793  0.001434   \n",
       "4           4            4.0            6.0  0.010127  0.009184   \n",
       "\n",
       "   magnitude_vel_st  magnitude_horz_vel_st  magnitude_vert_vel_st  \\\n",
       "0          0.167357               0.116687               0.094172   \n",
       "1          0.082170               0.053652               0.050760   \n",
       "2          0.128316               0.083959               0.079109   \n",
       "3          0.041127               0.026362               0.025751   \n",
       "4          0.054456               0.035698               0.033174   \n",
       "\n",
       "   magnitude_vel_dy  magnitude_horz_vel_dy  ...  magnitude_horz_jerk_dy  \\\n",
       "0          0.201030               0.138797  ...                0.000006   \n",
       "1          0.071314               0.047286  ...                0.000004   \n",
       "2          0.068212               0.042802  ...                0.000003   \n",
       "3          0.059535               0.037716  ...                0.000002   \n",
       "4          0.076065               0.049734  ...                0.000002   \n",
       "\n",
       "   magnitude_vert_jerk_dy      ncv_st      ncv_dy      nca_st      nca_dy  \\\n",
       "0                0.000004  143.166667  308.000000   28.000000   65.000000   \n",
       "1                0.000003  317.000000  345.200000   81.000000   83.333333   \n",
       "2                0.000003  205.714286  262.285714   53.666667   83.000000   \n",
       "3                0.000002  315.714286  299.666667  212.000000  285.000000   \n",
       "4                0.000002  210.300000  319.500000   67.200000  262.000000   \n",
       "\n",
       "   in_air_stcp  on_surface_st  on_surface_dy  target  \n",
       "0        176.0          952.0          689.0     1.0  \n",
       "1          0.0         2107.0         2506.0     1.0  \n",
       "2        206.0         1369.0         2807.0     1.0  \n",
       "3        705.0         4025.0         2487.0     1.0  \n",
       "4       1221.0         2712.0         2337.0     1.0  \n",
       "\n",
       "[5 rows x 31 columns]"
      ]
     },
     "execution_count": 6,
     "metadata": {},
     "output_type": "execute_result"
    }
   ],
   "source": [
    "data = df[numerical_features]\n",
    "\n",
    "data.head()"
   ]
  },
  {
   "cell_type": "code",
   "execution_count": 10,
   "metadata": {},
   "outputs": [
    {
     "data": {
      "text/html": [
       "<div>\n",
       "<style scoped>\n",
       "    .dataframe tbody tr th:only-of-type {\n",
       "        vertical-align: middle;\n",
       "    }\n",
       "\n",
       "    .dataframe tbody tr th {\n",
       "        vertical-align: top;\n",
       "    }\n",
       "\n",
       "    .dataframe thead th {\n",
       "        text-align: right;\n",
       "    }\n",
       "</style>\n",
       "<table border=\"1\" class=\"dataframe\">\n",
       "  <thead>\n",
       "    <tr style=\"text-align: right;\">\n",
       "      <th></th>\n",
       "      <th>no_strokes_st</th>\n",
       "      <th>no_strokes_dy</th>\n",
       "      <th>speed_st</th>\n",
       "      <th>speed_dy</th>\n",
       "      <th>magnitude_vel_st</th>\n",
       "      <th>magnitude_horz_vel_st</th>\n",
       "      <th>magnitude_vert_vel_st</th>\n",
       "      <th>magnitude_vel_dy</th>\n",
       "      <th>magnitude_horz_vel_dy</th>\n",
       "      <th>magnitude_vert_vel_dy</th>\n",
       "      <th>...</th>\n",
       "      <th>magnitude_jerk_dy</th>\n",
       "      <th>magnitude_horz_jerk_dy</th>\n",
       "      <th>magnitude_vert_jerk_dy</th>\n",
       "      <th>ncv_st</th>\n",
       "      <th>ncv_dy</th>\n",
       "      <th>nca_st</th>\n",
       "      <th>nca_dy</th>\n",
       "      <th>in_air_stcp</th>\n",
       "      <th>on_surface_st</th>\n",
       "      <th>on_surface_dy</th>\n",
       "    </tr>\n",
       "  </thead>\n",
       "  <tbody>\n",
       "    <tr>\n",
       "      <th>0</th>\n",
       "      <td>2.0</td>\n",
       "      <td>2.0</td>\n",
       "      <td>0.010988</td>\n",
       "      <td>0.009758</td>\n",
       "      <td>0.167357</td>\n",
       "      <td>0.116687</td>\n",
       "      <td>0.094172</td>\n",
       "      <td>0.201030</td>\n",
       "      <td>0.138797</td>\n",
       "      <td>0.114738</td>\n",
       "      <td>...</td>\n",
       "      <td>0.000008</td>\n",
       "      <td>0.000006</td>\n",
       "      <td>0.000004</td>\n",
       "      <td>143.166667</td>\n",
       "      <td>308.000000</td>\n",
       "      <td>28.000000</td>\n",
       "      <td>65.000000</td>\n",
       "      <td>176.0</td>\n",
       "      <td>952.0</td>\n",
       "      <td>689.0</td>\n",
       "    </tr>\n",
       "    <tr>\n",
       "      <th>1</th>\n",
       "      <td>52.0</td>\n",
       "      <td>10.0</td>\n",
       "      <td>0.006874</td>\n",
       "      <td>0.006669</td>\n",
       "      <td>0.082170</td>\n",
       "      <td>0.053652</td>\n",
       "      <td>0.050760</td>\n",
       "      <td>0.071314</td>\n",
       "      <td>0.047286</td>\n",
       "      <td>0.043804</td>\n",
       "      <td>...</td>\n",
       "      <td>0.000005</td>\n",
       "      <td>0.000004</td>\n",
       "      <td>0.000003</td>\n",
       "      <td>317.000000</td>\n",
       "      <td>345.200000</td>\n",
       "      <td>81.000000</td>\n",
       "      <td>83.333333</td>\n",
       "      <td>0.0</td>\n",
       "      <td>2107.0</td>\n",
       "      <td>2506.0</td>\n",
       "    </tr>\n",
       "    <tr>\n",
       "      <th>2</th>\n",
       "      <td>22.0</td>\n",
       "      <td>12.0</td>\n",
       "      <td>0.001636</td>\n",
       "      <td>0.001620</td>\n",
       "      <td>0.128316</td>\n",
       "      <td>0.083959</td>\n",
       "      <td>0.079109</td>\n",
       "      <td>0.068212</td>\n",
       "      <td>0.042802</td>\n",
       "      <td>0.043473</td>\n",
       "      <td>...</td>\n",
       "      <td>0.000004</td>\n",
       "      <td>0.000003</td>\n",
       "      <td>0.000003</td>\n",
       "      <td>205.714286</td>\n",
       "      <td>262.285714</td>\n",
       "      <td>53.666667</td>\n",
       "      <td>83.000000</td>\n",
       "      <td>206.0</td>\n",
       "      <td>1369.0</td>\n",
       "      <td>2807.0</td>\n",
       "    </tr>\n",
       "    <tr>\n",
       "      <th>3</th>\n",
       "      <td>2.0</td>\n",
       "      <td>6.0</td>\n",
       "      <td>0.001793</td>\n",
       "      <td>0.001434</td>\n",
       "      <td>0.041127</td>\n",
       "      <td>0.026362</td>\n",
       "      <td>0.025751</td>\n",
       "      <td>0.059535</td>\n",
       "      <td>0.037716</td>\n",
       "      <td>0.038586</td>\n",
       "      <td>...</td>\n",
       "      <td>0.000004</td>\n",
       "      <td>0.000002</td>\n",
       "      <td>0.000002</td>\n",
       "      <td>315.714286</td>\n",
       "      <td>299.666667</td>\n",
       "      <td>212.000000</td>\n",
       "      <td>285.000000</td>\n",
       "      <td>705.0</td>\n",
       "      <td>4025.0</td>\n",
       "      <td>2487.0</td>\n",
       "    </tr>\n",
       "    <tr>\n",
       "      <th>4</th>\n",
       "      <td>4.0</td>\n",
       "      <td>6.0</td>\n",
       "      <td>0.010127</td>\n",
       "      <td>0.009184</td>\n",
       "      <td>0.054456</td>\n",
       "      <td>0.035698</td>\n",
       "      <td>0.033174</td>\n",
       "      <td>0.076065</td>\n",
       "      <td>0.049734</td>\n",
       "      <td>0.048427</td>\n",
       "      <td>...</td>\n",
       "      <td>0.000003</td>\n",
       "      <td>0.000002</td>\n",
       "      <td>0.000002</td>\n",
       "      <td>210.300000</td>\n",
       "      <td>319.500000</td>\n",
       "      <td>67.200000</td>\n",
       "      <td>262.000000</td>\n",
       "      <td>1221.0</td>\n",
       "      <td>2712.0</td>\n",
       "      <td>2337.0</td>\n",
       "    </tr>\n",
       "  </tbody>\n",
       "</table>\n",
       "<p>5 rows × 29 columns</p>\n",
       "</div>"
      ],
      "text/plain": [
       "   no_strokes_st  no_strokes_dy  speed_st  speed_dy  magnitude_vel_st  \\\n",
       "0            2.0            2.0  0.010988  0.009758          0.167357   \n",
       "1           52.0           10.0  0.006874  0.006669          0.082170   \n",
       "2           22.0           12.0  0.001636  0.001620          0.128316   \n",
       "3            2.0            6.0  0.001793  0.001434          0.041127   \n",
       "4            4.0            6.0  0.010127  0.009184          0.054456   \n",
       "\n",
       "   magnitude_horz_vel_st  magnitude_vert_vel_st  magnitude_vel_dy  \\\n",
       "0               0.116687               0.094172          0.201030   \n",
       "1               0.053652               0.050760          0.071314   \n",
       "2               0.083959               0.079109          0.068212   \n",
       "3               0.026362               0.025751          0.059535   \n",
       "4               0.035698               0.033174          0.076065   \n",
       "\n",
       "   magnitude_horz_vel_dy  magnitude_vert_vel_dy  ...  magnitude_jerk_dy  \\\n",
       "0               0.138797               0.114738  ...           0.000008   \n",
       "1               0.047286               0.043804  ...           0.000005   \n",
       "2               0.042802               0.043473  ...           0.000004   \n",
       "3               0.037716               0.038586  ...           0.000004   \n",
       "4               0.049734               0.048427  ...           0.000003   \n",
       "\n",
       "   magnitude_horz_jerk_dy  magnitude_vert_jerk_dy      ncv_st      ncv_dy  \\\n",
       "0                0.000006                0.000004  143.166667  308.000000   \n",
       "1                0.000004                0.000003  317.000000  345.200000   \n",
       "2                0.000003                0.000003  205.714286  262.285714   \n",
       "3                0.000002                0.000002  315.714286  299.666667   \n",
       "4                0.000002                0.000002  210.300000  319.500000   \n",
       "\n",
       "       nca_st      nca_dy  in_air_stcp  on_surface_st  on_surface_dy  \n",
       "0   28.000000   65.000000        176.0          952.0          689.0  \n",
       "1   81.000000   83.333333          0.0         2107.0         2506.0  \n",
       "2   53.666667   83.000000        206.0         1369.0         2807.0  \n",
       "3  212.000000  285.000000        705.0         4025.0         2487.0  \n",
       "4   67.200000  262.000000       1221.0         2712.0         2337.0  \n",
       "\n",
       "[5 rows x 29 columns]"
      ]
     },
     "execution_count": 10,
     "metadata": {},
     "output_type": "execute_result"
    }
   ],
   "source": [
    "X = data.drop(['target','Unnamed: 0'], axis=1)\n",
    "X.head()"
   ]
  },
  {
   "cell_type": "code",
   "execution_count": 11,
   "metadata": {},
   "outputs": [
    {
     "data": {
      "text/plain": [
       "0    1.0\n",
       "1    1.0\n",
       "2    1.0\n",
       "3    1.0\n",
       "4    1.0\n",
       "Name: target, dtype: float64"
      ]
     },
     "execution_count": 11,
     "metadata": {},
     "output_type": "execute_result"
    }
   ],
   "source": [
    "y = data['target']\n",
    "y.head()"
   ]
  },
  {
   "cell_type": "code",
   "execution_count": 12,
   "metadata": {},
   "outputs": [
    {
     "data": {
      "text/plain": [
       "((28, 29), (28,), (12, 29), (12,))"
      ]
     },
     "execution_count": 12,
     "metadata": {},
     "output_type": "execute_result"
    }
   ],
   "source": [
    "X_train, X_test, y_train, y_test = train_test_split(X, y, test_size=0.3, random_state=101)\n",
    "X_train.shape, y_train.shape, X_test.shape, y_test.shape"
   ]
  },
  {
   "cell_type": "code",
   "execution_count": 13,
   "metadata": {},
   "outputs": [
    {
     "data": {
      "text/plain": [
       "array([0.        , 0.07051071, 0.23629349, 0.19165063, 0.        ,\n",
       "       0.        , 0.        , 0.        , 0.        , 0.        ,\n",
       "       0.12084867, 0.10715819, 0.0396221 , 0.1922369 , 0.12739846,\n",
       "       0.23007704, 0.22825166, 0.20603986, 0.27141165, 0.21645564,\n",
       "       0.20744203, 0.26367786, 0.        , 0.05145873, 0.        ,\n",
       "       0.01531799, 0.25891154, 0.        , 0.        ])"
      ]
     },
     "execution_count": 13,
     "metadata": {},
     "output_type": "execute_result"
    }
   ],
   "source": [
    "mutual_info = mutual_info_classif(X_train.fillna(0), y_train)\n",
    "mutual_info"
   ]
  },
  {
   "cell_type": "code",
   "execution_count": 14,
   "metadata": {},
   "outputs": [
    {
     "data": {
      "text/plain": [
       "magnitude_vert_jerk_st    0.271412\n",
       "magnitude_vert_jerk_dy    0.263678\n",
       "in_air_stcp               0.258912\n",
       "speed_st                  0.236293\n",
       "magnitude_vert_acc_dy     0.230077\n",
       "magnitude_jerk_st         0.228252\n",
       "magnitude_jerk_dy         0.216456\n",
       "magnitude_horz_jerk_dy    0.207442\n",
       "magnitude_horz_jerk_st    0.206040\n",
       "magnitude_acc_dy          0.192237\n",
       "speed_dy                  0.191651\n",
       "magnitude_horz_acc_dy     0.127398\n",
       "magnitude_acc_st          0.120849\n",
       "magnitude_horz_acc_st     0.107158\n",
       "no_strokes_dy             0.070511\n",
       "ncv_dy                    0.051459\n",
       "magnitude_vert_acc_st     0.039622\n",
       "nca_dy                    0.015318\n",
       "magnitude_vert_vel_st     0.000000\n",
       "magnitude_vel_st          0.000000\n",
       "magnitude_horz_vel_st     0.000000\n",
       "on_surface_dy             0.000000\n",
       "magnitude_vel_dy          0.000000\n",
       "magnitude_horz_vel_dy     0.000000\n",
       "magnitude_vert_vel_dy     0.000000\n",
       "on_surface_st             0.000000\n",
       "ncv_st                    0.000000\n",
       "nca_st                    0.000000\n",
       "no_strokes_st             0.000000\n",
       "dtype: float64"
      ]
     },
     "execution_count": 14,
     "metadata": {},
     "output_type": "execute_result"
    }
   ],
   "source": [
    "# Create Feature Target Mutual Information Series\n",
    "mi_series = pd.Series(mutual_info)\n",
    "mi_series.index = X_train.columns\n",
    "mi_series.sort_values(ascending=False)"
   ]
  },
  {
   "cell_type": "code",
   "execution_count": 15,
   "metadata": {},
   "outputs": [
    {
     "data": {
      "text/plain": [
       "<AxesSubplot:>"
      ]
     },
     "execution_count": 15,
     "metadata": {},
     "output_type": "execute_result"
    },
    {
     "data": {
      "image/png": "[encoded data removed]",
      "text/plain": [
       "<Figure size 1440x576 with 1 Axes>"
      ]
     },
     "metadata": {
      "needs_background": "light"
     },
     "output_type": "display_data"
    }
   ],
   "source": [
    "mi_series.sort_values(ascending=False).plot.bar(figsize=(20,8))"
   ]
  },
  {
   "cell_type": "code",
   "execution_count": 16,
   "metadata": {},
   "outputs": [
    {
     "name": "stdout",
     "output_type": "stream",
     "text": [
      "Selected top 10 features: Index(['speed_st', 'magnitude_acc_dy', 'magnitude_vert_acc_dy',\n",
      "       'magnitude_jerk_st', 'magnitude_horz_jerk_st', 'magnitude_vert_jerk_st',\n",
      "       'magnitude_jerk_dy', 'magnitude_horz_jerk_dy', 'magnitude_vert_jerk_dy',\n",
      "       'in_air_stcp'],\n",
      "      dtype='object')\n"
     ]
    }
   ],
   "source": [
    "# Select K best features\n",
    "k_best_features = SelectKBest(mutual_info_classif, k=10).fit(X_train.fillna(0), y_train)\n",
    "print('Selected top 10 features: {}'.format(X_train.columns[k_best_features.get_support()]))"
   ]
  },
  {
   "cell_type": "code",
   "execution_count": 17,
   "metadata": {},
   "outputs": [
    {
     "data": {
      "text/plain": [
       "(40, 31)"
      ]
     },
     "execution_count": 17,
     "metadata": {},
     "output_type": "execute_result"
    }
   ],
   "source": [
    "#Mutual Information using Regression\n",
    "df = pd.read_csv('data.csv')\n",
    "df.shape"
   ]
  },
  {
   "cell_type": "code",
   "execution_count": 18,
   "metadata": {},
   "outputs": [],
   "source": [
    "numerics = ['int16', 'int32','int64', 'float16', 'float32', 'float64']\n",
    "numerical_features = list(df.select_dtypes(include=numerics).columns)\n",
    "data = df[numerical_features]"
   ]
  },
  {
   "cell_type": "code",
   "execution_count": 20,
   "metadata": {},
   "outputs": [],
   "source": [
    "X = data.drop(['target','Unnamed: 0'], axis=1)\n",
    "y = data['target']"
   ]
  },
  {
   "cell_type": "code",
   "execution_count": 21,
   "metadata": {},
   "outputs": [
    {
     "data": {
      "text/plain": [
       "((28, 29), (28,), (12, 29), (12,))"
      ]
     },
     "execution_count": 21,
     "metadata": {},
     "output_type": "execute_result"
    }
   ],
   "source": [
    "X_train, X_test, y_train, y_test = train_test_split(X, y, test_size=0.3, random_state=101)\n",
    "X_train.shape, y_train.shape, X_test.shape, y_test.shape"
   ]
  },
  {
   "cell_type": "code",
   "execution_count": 22,
   "metadata": {},
   "outputs": [
    {
     "data": {
      "text/plain": [
       "array([0.00215935, 0.01214582, 0.26653489, 0.22189203, 0.        ,\n",
       "       0.        , 0.        , 0.        , 0.        , 0.        ,\n",
       "       0.12084867, 0.09736382, 0.0396221 , 0.1922369 , 0.12739846,\n",
       "       0.23007704, 0.22825166, 0.20603986, 0.27141165, 0.21848872,\n",
       "       0.20744203, 0.27937844, 0.        , 0.05145873, 0.        ,\n",
       "       0.00638941, 0.23702709, 0.        , 0.        ])"
      ]
     },
     "execution_count": 22,
     "metadata": {},
     "output_type": "execute_result"
    }
   ],
   "source": [
    "mutual_info = mutual_info_regression(X_train.fillna(0), y_train)\n",
    "mutual_info"
   ]
  },
  {
   "cell_type": "code",
   "execution_count": 23,
   "metadata": {},
   "outputs": [
    {
     "data": {
      "text/plain": [
       "magnitude_vert_jerk_dy    0.279378\n",
       "magnitude_vert_jerk_st    0.271412\n",
       "speed_st                  0.266535\n",
       "in_air_stcp               0.237027\n",
       "magnitude_vert_acc_dy     0.230077\n",
       "magnitude_jerk_st         0.228252\n",
       "speed_dy                  0.221892\n",
       "magnitude_jerk_dy         0.218489\n",
       "magnitude_horz_jerk_dy    0.207442\n",
       "magnitude_horz_jerk_st    0.206040\n",
       "magnitude_acc_dy          0.192237\n",
       "magnitude_horz_acc_dy     0.127398\n",
       "magnitude_acc_st          0.120849\n",
       "magnitude_horz_acc_st     0.097364\n",
       "ncv_dy                    0.051459\n",
       "magnitude_vert_acc_st     0.039622\n",
       "no_strokes_dy             0.012146\n",
       "nca_dy                    0.006389\n",
       "no_strokes_st             0.002159\n",
       "magnitude_vert_vel_dy     0.000000\n",
       "magnitude_horz_vel_dy     0.000000\n",
       "magnitude_vel_dy          0.000000\n",
       "magnitude_vert_vel_st     0.000000\n",
       "magnitude_horz_vel_st     0.000000\n",
       "magnitude_vel_st          0.000000\n",
       "on_surface_st             0.000000\n",
       "ncv_st                    0.000000\n",
       "nca_st                    0.000000\n",
       "on_surface_dy             0.000000\n",
       "dtype: float64"
      ]
     },
     "execution_count": 23,
     "metadata": {},
     "output_type": "execute_result"
    }
   ],
   "source": [
    "mi_series = pd.Series(mutual_info)\n",
    "mi_series.index = X_train.columns\n",
    "mi_series.sort_values(ascending=False)"
   ]
  },
  {
   "cell_type": "code",
   "execution_count": 24,
   "metadata": {},
   "outputs": [
    {
     "data": {
      "text/plain": [
       "<AxesSubplot:>"
      ]
     },
     "execution_count": 24,
     "metadata": {},
     "output_type": "execute_result"
    },
    {
     "data": {
      "image/png": "[encoded data removed]",
      "text/plain": [
       "<Figure size 1440x576 with 1 Axes>"
      ]
     },
     "metadata": {
      "needs_background": "light"
     },
     "output_type": "display_data"
    }
   ],
   "source": [
    "mi_series.sort_values(ascending=False).plot.bar(figsize=(20,8))"
   ]
  },
  {
   "cell_type": "code",
   "execution_count": 25,
   "metadata": {},
   "outputs": [
    {
     "name": "stdout",
     "output_type": "stream",
     "text": [
      "Selected top 10 percentile features: Index(['magnitude_vert_jerk_st', 'magnitude_vert_jerk_dy', 'in_air_stcp'], dtype='object')\n"
     ]
    }
   ],
   "source": [
    "# Select K best features\n",
    "k_percentile_features = SelectPercentile(mutual_info_classif, percentile=10).fit(X_train.fillna(0), y_train)\n",
    "print('Selected top 10 percentile features: {}'.format(X_train.columns[k_percentile_features.get_support()]))"
   ]
  },
  {
   "cell_type": "code",
   "execution_count": null,
   "metadata": {},
   "outputs": [],
   "source": []
  }
 ],
 "metadata": {
  "kernelspec": {
   "display_name": "Python 3",
   "language": "python",
   "name": "python3"
  },
  "language_info": {
   "codemirror_mode": {
    "name": "ipython",
    "version": 3
   },
   "file_extension": ".py",
   "mimetype": "text/x-python",
   "name": "python",
   "nbconvert_exporter": "python",
   "pygments_lexer": "ipython3",
   "version": "3.8.5"
  }
 },
 "nbformat": 4,
 "nbformat_minor": 4
}
