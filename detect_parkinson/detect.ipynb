{
 "cells": [
  {
   "cell_type": "code",
   "execution_count": 119,
   "metadata": {},
   "outputs": [],
   "source": [
    "%matplotlib inline\n",
    "import numpy as np\n",
    "import pandas as pd\n",
    "import os\n",
    "import seaborn as sns\n",
    "from time import time\n",
    "from math import sqrt"
   ]
  },
  {
   "cell_type": "code",
   "execution_count": 120,
   "metadata": {},
   "outputs": [],
   "source": [
    "#timing detector\n",
    "def timeit(fn):\n",
    "    def wrapper(*args, **kwargs):\n",
    "        start=time()\n",
    "        res=fn(*args, **kwargs)\n",
    "        print(fn.__name__, \"took\", time()-start, \"seconds.\")\n",
    "        return res\n",
    "    return wrapper"
   ]
  },
  {
   "cell_type": "code",
   "execution_count": 121,
   "metadata": {},
   "outputs": [],
   "source": [
    "control_data_path=os.path.join('data', 'control')\n",
    "parkinson_data_path=os.path.join('data', 'parkinson')"
   ]
  },
  {
   "cell_type": "code",
   "execution_count": 122,
   "metadata": {},
   "outputs": [],
   "source": [
    "control_file_list=[os.path.join(control_data_path, x) for x in os.listdir(control_data_path)]\n",
    "parkinson_file_list=[os.path.join(parkinson_data_path, x) for x in os.listdir(parkinson_data_path)]"
   ]
  },
  {
   "cell_type": "code",
   "execution_count": 123,
   "metadata": {},
   "outputs": [],
   "source": [
    "header_row=[\"X\", \"Y\", \"Z\", \"Pressure\" , \"GripAngle\" , \"Timestamp\" , \"Test_ID\"]"
   ]
  },
  {
   "cell_type": "code",
   "execution_count": 124,
   "metadata": {},
   "outputs": [],
   "source": [
    "#@timeit\n",
    "def get_no_strokes(df):\n",
    "    pressure_data=df['Pressure'].to_numpy()\n",
    "    on_surface = (pressure_data>600).astype(int)\n",
    "    return ((np.roll(on_surface, 1) - on_surface) != 0).astype(int).sum()"
   ]
  },
  {
   "cell_type": "code",
   "execution_count": 125,
   "metadata": {},
   "outputs": [],
   "source": [
    "#@timeit\n",
    "def get_speed(df):\n",
    "    total_dist=0\n",
    "    duration=df['Timestamp'].to_numpy()[-1]\n",
    "    coords=df[['X', 'Y', 'Z']].to_numpy()\n",
    "    for i in range(10, df.shape[0]):\n",
    "        temp=np.linalg.norm(coords[i, :]-coords[i-10, :])\n",
    "        total_dist+=temp\n",
    "    speed=total_dist/duration\n",
    "    return speed"
   ]
  },
  {
   "cell_type": "code",
   "execution_count": 126,
   "metadata": {},
   "outputs": [],
   "source": [
    "#@timeit\n",
    "def get_in_air_time(data):\n",
    "    data=data['Pressure'].to_numpy()\n",
    "    return (data<600).astype(int).sum()"
   ]
  },
  {
   "cell_type": "code",
   "execution_count": 127,
   "metadata": {},
   "outputs": [],
   "source": [
    "#@timeit\n",
    "def get_on_surface_time(data):\n",
    "    data=data['Pressure'].to_numpy()\n",
    "    return (data>600).astype(int).sum()"
   ]
  },
  {
   "cell_type": "code",
   "execution_count": 128,
   "metadata": {},
   "outputs": [],
   "source": [
    "def find_velocity(f):\n",
    "    '''\n",
    "    change in direction and its position\n",
    "    \n",
    "    '''\n",
    "    data_pat=f\n",
    "    Vel = []\n",
    "    horz_Vel = []\n",
    "    horz_vel_mag = []\n",
    "    vert_vel_mag = []\n",
    "    vert_Vel = []\n",
    "    magnitude = []\n",
    "    timestamp_diff =  []\n",
    "    \n",
    "    t = 0\n",
    "    for i in range(len(data_pat)-2):\n",
    "        if t+10 <= len(data_pat)-1:\n",
    "            Vel.append(((data_pat['X'].to_numpy()[t+10] - data_pat['X'].to_numpy()[t])/(data_pat['Timestamp'].to_numpy()[t+10]-data_pat['Timestamp'].to_numpy()[t]) , (data_pat['Y'].to_numpy()[t+10]-data_pat['Y'].to_numpy()[t])/(data_pat['Timestamp'].to_numpy()[t+10]-data_pat['Timestamp'].to_numpy()[t])))\n",
    "            horz_Vel.append((data_pat['X'].to_numpy()[t+10] - data_pat['X'].to_numpy()[t])/(data_pat['Timestamp'].to_numpy()[t+10]-data_pat['Timestamp'].to_numpy()[t]))\n",
    "            \n",
    "            vert_Vel.append((data_pat['Y'].to_numpy()[t+10] - data_pat['Y'].to_numpy()[t])/(data_pat['Timestamp'].to_numpy()[t+10]-data_pat['Timestamp'].to_numpy()[t]))\n",
    "            magnitude.append(sqrt(((data_pat['X'].to_numpy()[t+10]-data_pat['X'].to_numpy()[t])/(data_pat['Timestamp'].to_numpy()[t+10]-data_pat['Timestamp'].to_numpy()[t]))**2 + (((data_pat['Y'].to_numpy()[t+10]-data_pat['Y'].to_numpy()[t])/(data_pat['Timestamp'].to_numpy()[t+10]-data_pat['Timestamp'].to_numpy()[t]))**2)))\n",
    "            timestamp_diff.append(data_pat['Timestamp'].to_numpy()[t+10]-data_pat['Timestamp'].to_numpy()[t])\n",
    "            horz_vel_mag.append(abs(horz_Vel[len(horz_Vel)-1]))\n",
    "            vert_vel_mag.append(abs(vert_Vel[len(vert_Vel)-1]))\n",
    "            t = t+10\n",
    "        else:\n",
    "            break\n",
    "    magnitude_vel = np.mean(magnitude)  \n",
    "    magnitude_horz_vel = np.mean(horz_vel_mag)\n",
    "    magnitude_vert_vel = np.mean(vert_vel_mag)\n",
    "    return Vel,magnitude,timestamp_diff,horz_Vel,vert_Vel,magnitude_vel,magnitude_horz_vel,magnitude_vert_vel"
   ]
  },
  {
   "cell_type": "code",
   "execution_count": 129,
   "metadata": {},
   "outputs": [],
   "source": [
    "def find_acceleration(f):\n",
    "    '''\n",
    "    change in direction and its velocity\n",
    "   \n",
    "    '''\n",
    "    Vel,magnitude,timestamp_diff,horz_Vel,vert_Vel,magnitude_vel,magnitude_horz_vel,magnitude_vert_vel = find_velocity(f)\n",
    "    accl = []\n",
    "    horz_Accl =  []\n",
    "    vert_Accl = []\n",
    "    magnitude = []\n",
    "    horz_acc_mag = []\n",
    "    vert_acc_mag = []\n",
    "    for i in range(len(Vel)-2):\n",
    "        accl.append(((Vel[i+1][0]-Vel[i][0])/timestamp_diff[i] , (Vel[i+1][1]-Vel[i][1])/timestamp_diff[i]))\n",
    "        horz_Accl.append((horz_Vel[i+1]-horz_Vel[i])/timestamp_diff[i])\n",
    "        vert_Accl.append((vert_Vel[i+1]-vert_Vel[i])/timestamp_diff[i])\n",
    "        horz_acc_mag.append(abs(horz_Accl[len(horz_Accl)-1]))\n",
    "        vert_acc_mag.append(abs(vert_Accl[len(vert_Accl)-1]))\n",
    "        magnitude.append(sqrt(((Vel[i+1][0]-Vel[i][0])/timestamp_diff[i])**2 + ((Vel[i+1][1]-Vel[i][1])/timestamp_diff[i])**2))\n",
    "    \n",
    "    magnitude_acc = np.mean(magnitude)  \n",
    "    magnitude_horz_acc = np.mean(horz_acc_mag)\n",
    "    magnitude_vert_acc = np.mean(vert_acc_mag)\n",
    "    return accl,magnitude,horz_Accl,vert_Accl,timestamp_diff,magnitude_acc,magnitude_horz_acc,magnitude_vert_acc"
   ]
  },
  {
   "cell_type": "code",
   "execution_count": 130,
   "metadata": {},
   "outputs": [],
   "source": [
    "def find_jerk(f):\n",
    "    accl,magnitude,horz_Accl,vert_Accl,timestamp_diff,magnitude_acc,magnitude_horz_acc,magnitude_vert_acc = find_acceleration(f)\n",
    "    jerk = []\n",
    "    hrz_jerk = []\n",
    "    vert_jerk = []\n",
    "    magnitude = []\n",
    "    horz_jerk_mag = []\n",
    "    vert_jerk_mag = []\n",
    "    \n",
    "    for i in range(len(accl)-2):\n",
    "        jerk.append(((accl[i+1][0]-accl[i][0])/timestamp_diff[i] , (accl[i+1][1]-accl[i][1])/timestamp_diff[i]))\n",
    "        hrz_jerk.append((horz_Accl[i+1]-horz_Accl[i])/timestamp_diff[i])\n",
    "        vert_jerk.append((vert_Accl[i+1]-vert_Accl[i])/timestamp_diff[i])\n",
    "        horz_jerk_mag.append(abs(hrz_jerk[len(hrz_jerk)-1]))\n",
    "        vert_jerk_mag.append(abs(vert_jerk[len(vert_jerk)-1]))\n",
    "        magnitude.append(sqrt(((accl[i+1][0]-accl[i][0])/timestamp_diff[i])**2 + ((accl[i+1][1]-accl[i][1])/timestamp_diff[i])**2))\n",
    "        \n",
    "    magnitude_jerk = np.mean(magnitude)  \n",
    "    magnitude_horz_jerk = np.mean(horz_jerk_mag)\n",
    "    magnitude_vert_jerk = np.mean(vert_jerk_mag)\n",
    "    return jerk,magnitude,hrz_jerk,vert_jerk,timestamp_diff,magnitude_jerk,magnitude_horz_jerk,magnitude_vert_jerk"
   ]
  },
  {
   "cell_type": "code",
   "execution_count": 131,
   "metadata": {},
   "outputs": [],
   "source": [
    "def NCV_per_halfcircle(f):\n",
    "    data_pat=f\n",
    "    Vel = []\n",
    "    ncv = []\n",
    "    temp_ncv = 0\n",
    "    basex = data_pat['X'].to_numpy()[0]\n",
    "    for i in range(len(data_pat)-2):\n",
    "        if data_pat['X'].to_numpy()[i] == basex:\n",
    "            ncv.append(temp_ncv)\n",
    "            temp_ncv = 0\n",
    "            continue\n",
    "            \n",
    "        Vel.append(((data_pat['X'].to_numpy()[i+1] - data_pat['X'].to_numpy()[i])/(data_pat['Timestamp'].to_numpy()[i+1]-data_pat['Timestamp'].to_numpy()[i]) , (data_pat['Y'].to_numpy()[i+1]-data_pat['Y'].to_numpy()[i])/(data_pat['Timestamp'].to_numpy()[i+1]-data_pat['Timestamp'].to_numpy()[i])))\n",
    "        if Vel[len(Vel)-1] != (0,0):\n",
    "            temp_ncv+=1\n",
    "    ncv.append(temp_ncv)\n",
    "    #ncv = list(filter((2).__ne__, ncv))\n",
    "    ncv_Val = np.sum(ncv)/np.count_nonzero(ncv)\n",
    "    return ncv,ncv_Val"
   ]
  },
  {
   "cell_type": "code",
   "execution_count": 132,
   "metadata": {},
   "outputs": [],
   "source": [
    "def NCA_per_halfcircle(f):\n",
    "    data_pat=f\n",
    "    Vel,magnitude,timestamp_diff,horz_Vel,vert_Vel,magnitude_vel,magnitude_horz_vel,magnitude_vert_vel = find_velocity(f)\n",
    "    accl = []\n",
    "    nca = []\n",
    "    temp_nca = 0\n",
    "    basex = data_pat['X'].to_numpy()[0]\n",
    "    for i in range(len(Vel)-2):\n",
    "        if data_pat['X'].to_numpy()[i] == basex:\n",
    "            nca.append(temp_nca)\n",
    "            #print ('tempNCa::',temp_nca)\n",
    "            temp_nca = 0\n",
    "            continue\n",
    "            \n",
    "        accl.append(((Vel[i+1][0]-Vel[i][0])/timestamp_diff[i] , (Vel[i+1][1]-Vel[i][1])/timestamp_diff[i]))\n",
    "        if accl[len(accl)-1] != (0,0):\n",
    "            temp_nca+=1\n",
    "    nca.append(temp_nca)\n",
    "    nca = list(filter((2).__ne__, nca))\n",
    "    nca_Val = np.sum(nca)/np.count_nonzero(nca)\n",
    "    return nca,nca_Val"
   ]
  },
  {
   "cell_type": "code",
   "execution_count": 133,
   "metadata": {},
   "outputs": [],
   "source": [
    "#@timeit\n",
    "def get_features(f, parkinson_target):\n",
    "    global header_row\n",
    "    df=pd.read_csv(f, sep=';', header=None, names=header_row)\n",
    "    \n",
    "    df_static=df[df[\"Test_ID\"]==0]    # static test\n",
    "    df_dynamic=df[df[\"Test_ID\"]==1]    # dynamic test\n",
    "    df_stcp=df[df[\"Test_ID\"]==2]    # STCP\n",
    "    #df_static_dynamic=pd.concat([df_static, df_dynamic])\n",
    "    \n",
    "    initial_timestamp=df['Timestamp'][0]\n",
    "    df['Timestamp']=df['Timestamp']- initial_timestamp # offset timestamps\n",
    "    \n",
    "    duration_static = df_static['Timestamp'].to_numpy()[-1] if df_static.shape[0] else 1\n",
    "    duration_dynamic = df_dynamic['Timestamp'].to_numpy()[-1] if df_dynamic.shape[0] else 1\n",
    "    duration_STCP = df_stcp['Timestamp'].to_numpy()[-1] if df_stcp.shape[0] else 1\n",
    "\n",
    "    \n",
    "    data_point=[]\n",
    "    data_point.append(get_no_strokes(df_static) if df_static.shape[0] else 0) # no. of strokes for static test\n",
    "    data_point.append(get_no_strokes(df_dynamic) if df_dynamic.shape[0] else 0) # no. of strokes for dynamic test\n",
    "    data_point.append(get_speed(df_static) if df_static.shape[0] else 0) # speed for static test\n",
    "    data_point.append(get_speed(df_dynamic) if df_dynamic.shape[0] else 0) # speed for dynamic test\n",
    "\n",
    "    Vel,magnitude,timestamp_diff,horz_Vel,vert_Vel,magnitude_vel,magnitude_horz_vel,magnitude_vert_vel = find_velocity(df_static) if df_static.shape[0] else (0,0,0,0,0,0,0,0) # magnitudes of velocity, horizontal velocity and vertical velocity for static test\n",
    "    data_point.extend([magnitude_vel, magnitude_horz_vel,magnitude_vert_vel])\n",
    "    Vel,magnitude,timestamp_diff,horz_Vel,vert_Vel,magnitude_vel,magnitude_horz_vel,magnitude_vert_vel = find_velocity(df_dynamic) if df_dynamic.shape[0] else (0,0,0,0,0,0,0,0) # magnitudes of velocity, horizontal velocity and vertical velocity for dynamic test\n",
    "    data_point.extend([magnitude_vel, magnitude_horz_vel,magnitude_vert_vel])\n",
    "    \n",
    "    accl,magnitude,horz_Accl,vert_Accl,timestamp_diff,magnitude_acc,magnitude_horz_acc,magnitude_vert_acc=find_acceleration(df_static) if df_static.shape[0] else (0,0,0,0,0,0,0,0)# magnitudes of acceleration, horizontal acceleration and vertical acceleration for static test        \n",
    "    data_point.extend([magnitude_acc,magnitude_horz_acc,magnitude_vert_acc])\n",
    "    accl,magnitude,horz_Accl,vert_Accl,timestamp_diff,magnitude_acc,magnitude_horz_acc,magnitude_vert_acc=find_acceleration(df_dynamic) if df_dynamic.shape[0] else (0,0,0,0,0,0,0,0)# magnitudes of acceleration, horizontal acceleration and vertical acceleration for dynamic test        \n",
    "    data_point.extend([magnitude_acc,magnitude_horz_acc,magnitude_vert_acc])\n",
    "    \n",
    "    jerk,magnitude,hrz_jerk,vert_jerk,timestamp_diff,magnitude_jerk,magnitude_horz_jerk,magnitude_vert_jerk=find_jerk(df_static) if df_static.shape[0] else (0,0,0,0,0,0,0,0) # magnitudes of jerk, horizontal jerk and vertical jerk for static test\n",
    "    data_point.extend([magnitude_jerk,magnitude_horz_jerk,magnitude_vert_jerk])\n",
    "    jerk,magnitude,hrz_jerk,vert_jerk,timestamp_diff,magnitude_jerk,magnitude_horz_jerk,magnitude_vert_jerk=find_jerk(df_dynamic) if df_dynamic.shape[0] else (0,0,0,0,0,0,0,0) # magnitudes of jerk, horizontal jerk and vertical jerk for dynamic test\n",
    "    data_point.extend([magnitude_jerk,magnitude_horz_jerk,magnitude_vert_jerk])\n",
    "    \n",
    "    ncv,ncv_Val=NCV_per_halfcircle(df_static) if df_static.shape[0] else (0,0) # NCV for static test\n",
    "    data_point.append(ncv_Val)\n",
    "    ncv,ncv_Val=NCV_per_halfcircle(df_dynamic) if df_dynamic.shape[0] else (0,0) # NCV for dynamic test\n",
    "    data_point.append(ncv_Val)\n",
    "    \n",
    "    nca,nca_Val=NCA_per_halfcircle(df_static) if df_static.shape[0] else (0,0) # NCA for static test\n",
    "    data_point.append(nca_Val)\n",
    "    nca,nca_Val=NCA_per_halfcircle(df_dynamic) if df_dynamic.shape[0] else (0,0) # NCA for dynamic test\n",
    "    data_point.append(nca_Val)\n",
    "    \n",
    "    data_point.append(get_in_air_time(df_stcp) if df_stcp.shape[0] else 0) # in air time for STCP\n",
    "    data_point.append(get_on_surface_time(df_static) if df_static.shape[0] else 0) # on surface time for static test\n",
    "    data_point.append(get_on_surface_time(df_dynamic) if df_dynamic.shape[0] else 0) # on surface time for dynamic test\n",
    "    \n",
    "    data_point.append(parkinson_target)    # traget. 1 for parkinson. 0 for control.\n",
    "    \n",
    "    return data_point"
   ]
  },
  {
   "cell_type": "code",
   "execution_count": 134,
   "metadata": {},
   "outputs": [
    {
     "data": {
      "text/plain": [
       "[0,\n",
       " 10,\n",
       " 0.002039417824308077,\n",
       " 0.0019348519144513695,\n",
       " 0.08069929652063425,\n",
       " 0.058345826131394496,\n",
       " 0.04335567510083052,\n",
       " 0.07392249609368606,\n",
       " 0.054031810442360904,\n",
       " 0.04094578236493374,\n",
       " 0.0002205062771034402,\n",
       " 0.00014522278118832922,\n",
       " 0.00012863196669946934,\n",
       " 0.00021482424515996296,\n",
       " 0.00014935570869105836,\n",
       " 0.00011727604774983849,\n",
       " 3.469595812160837e-06,\n",
       " 2.1720633590508246e-06,\n",
       " 2.2170340548633055e-06,\n",
       " 3.3311045931858816e-06,\n",
       " 2.350037639687316e-06,\n",
       " 1.8516825394684694e-06,\n",
       " 253.625,\n",
       " 212.55555555555554,\n",
       " 90.0,\n",
       " 69.25,\n",
       " 355,\n",
       " 0,\n",
       " 2249,\n",
       " 1]"
      ]
     },
     "execution_count": 134,
     "metadata": {},
     "output_type": "execute_result"
    }
   ],
   "source": [
    "temp_feat=get_features(parkinson_file_list[20], 1)\n",
    "temp_feat"
   ]
  },
  {
   "cell_type": "code",
   "execution_count": 135,
   "metadata": {},
   "outputs": [],
   "source": [
    "raw=[]\n",
    "for x in parkinson_file_list:\n",
    "    raw.append(get_features(x, 1))\n",
    "for x in control_file_list:\n",
    "    raw.append(get_features(x, 0))"
   ]
  },
  {
   "cell_type": "code",
   "execution_count": 136,
   "metadata": {},
   "outputs": [],
   "source": [
    "raw=np.array(raw)"
   ]
  },
  {
   "cell_type": "code",
   "execution_count": 137,
   "metadata": {},
   "outputs": [],
   "source": [
    "features_headers=['no_strokes_st', 'no_strokes_dy', 'speed_st', 'speed_dy', 'magnitude_vel_st' , 'magnitude_horz_vel_st' , 'magnitude_vert_vel_st', 'magnitude_vel_dy', 'magnitude_horz_vel_dy' , 'magnitude_vert_vel_dy', 'magnitude_acc_st' , 'magnitude_horz_acc_st' , 'magnitude_vert_acc_st','magnitude_acc_dy' , 'magnitude_horz_acc_dy' , 'magnitude_vert_acc_dy', 'magnitude_jerk_st', 'magnitude_horz_jerk_st' , 'magnitude_vert_jerk_st', 'magnitude_jerk_dy', 'magnitude_horz_jerk_dy' , 'magnitude_vert_jerk_dy', 'ncv_st', 'ncv_dy', 'nca_st', 'nca_dy', 'in_air_stcp','on_surface_st', 'on_surface_dy', 'target']"
   ]
  },
  {
   "cell_type": "code",
   "execution_count": 138,
   "metadata": {},
   "outputs": [],
   "source": [
    "data=pd.DataFrame(raw, columns=features_headers)"
   ]
  },
  {
   "cell_type": "code",
   "execution_count": 139,
   "metadata": {},
   "outputs": [
    {
     "data": {
      "text/html": [
       "<div>\n",
       "<style scoped>\n",
       "    .dataframe tbody tr th:only-of-type {\n",
       "        vertical-align: middle;\n",
       "    }\n",
       "\n",
       "    .dataframe tbody tr th {\n",
       "        vertical-align: top;\n",
       "    }\n",
       "\n",
       "    .dataframe thead th {\n",
       "        text-align: right;\n",
       "    }\n",
       "</style>\n",
       "<table border=\"1\" class=\"dataframe\">\n",
       "  <thead>\n",
       "    <tr style=\"text-align: right;\">\n",
       "      <th></th>\n",
       "      <th>no_strokes_st</th>\n",
       "      <th>no_strokes_dy</th>\n",
       "      <th>speed_st</th>\n",
       "      <th>speed_dy</th>\n",
       "      <th>magnitude_vel_st</th>\n",
       "      <th>magnitude_horz_vel_st</th>\n",
       "      <th>magnitude_vert_vel_st</th>\n",
       "      <th>magnitude_vel_dy</th>\n",
       "      <th>magnitude_horz_vel_dy</th>\n",
       "      <th>magnitude_vert_vel_dy</th>\n",
       "      <th>...</th>\n",
       "      <th>magnitude_horz_jerk_dy</th>\n",
       "      <th>magnitude_vert_jerk_dy</th>\n",
       "      <th>ncv_st</th>\n",
       "      <th>ncv_dy</th>\n",
       "      <th>nca_st</th>\n",
       "      <th>nca_dy</th>\n",
       "      <th>in_air_stcp</th>\n",
       "      <th>on_surface_st</th>\n",
       "      <th>on_surface_dy</th>\n",
       "      <th>target</th>\n",
       "    </tr>\n",
       "  </thead>\n",
       "  <tbody>\n",
       "    <tr>\n",
       "      <th>35</th>\n",
       "      <td>2.0</td>\n",
       "      <td>2.0</td>\n",
       "      <td>0.001592</td>\n",
       "      <td>0.001560</td>\n",
       "      <td>0.046842</td>\n",
       "      <td>0.029474</td>\n",
       "      <td>0.029731</td>\n",
       "      <td>0.042719</td>\n",
       "      <td>0.026828</td>\n",
       "      <td>0.026851</td>\n",
       "      <td>...</td>\n",
       "      <td>0.000004</td>\n",
       "      <td>0.000004</td>\n",
       "      <td>330.571429</td>\n",
       "      <td>324.571429</td>\n",
       "      <td>275.500000</td>\n",
       "      <td>282.000000</td>\n",
       "      <td>1536.0</td>\n",
       "      <td>5867.0</td>\n",
       "      <td>6558.0</td>\n",
       "      <td>0.0</td>\n",
       "    </tr>\n",
       "    <tr>\n",
       "      <th>36</th>\n",
       "      <td>2.0</td>\n",
       "      <td>2.0</td>\n",
       "      <td>0.001387</td>\n",
       "      <td>0.001339</td>\n",
       "      <td>0.088510</td>\n",
       "      <td>0.055965</td>\n",
       "      <td>0.055433</td>\n",
       "      <td>0.114583</td>\n",
       "      <td>0.073060</td>\n",
       "      <td>0.070357</td>\n",
       "      <td>...</td>\n",
       "      <td>0.000006</td>\n",
       "      <td>0.000005</td>\n",
       "      <td>224.222222</td>\n",
       "      <td>227.125000</td>\n",
       "      <td>71.500000</td>\n",
       "      <td>73.666667</td>\n",
       "      <td>1536.0</td>\n",
       "      <td>3029.0</td>\n",
       "      <td>2312.0</td>\n",
       "      <td>0.0</td>\n",
       "    </tr>\n",
       "    <tr>\n",
       "      <th>37</th>\n",
       "      <td>48.0</td>\n",
       "      <td>176.0</td>\n",
       "      <td>0.001201</td>\n",
       "      <td>0.001194</td>\n",
       "      <td>0.200499</td>\n",
       "      <td>0.124995</td>\n",
       "      <td>0.126018</td>\n",
       "      <td>0.175576</td>\n",
       "      <td>0.111122</td>\n",
       "      <td>0.109489</td>\n",
       "      <td>...</td>\n",
       "      <td>0.000007</td>\n",
       "      <td>0.000006</td>\n",
       "      <td>206.833333</td>\n",
       "      <td>276.400000</td>\n",
       "      <td>29.333333</td>\n",
       "      <td>74.500000</td>\n",
       "      <td>1536.0</td>\n",
       "      <td>572.0</td>\n",
       "      <td>575.0</td>\n",
       "      <td>0.0</td>\n",
       "    </tr>\n",
       "    <tr>\n",
       "      <th>38</th>\n",
       "      <td>6.0</td>\n",
       "      <td>10.0</td>\n",
       "      <td>0.001159</td>\n",
       "      <td>0.001157</td>\n",
       "      <td>0.150016</td>\n",
       "      <td>0.095055</td>\n",
       "      <td>0.095358</td>\n",
       "      <td>0.136387</td>\n",
       "      <td>0.090064</td>\n",
       "      <td>0.085038</td>\n",
       "      <td>...</td>\n",
       "      <td>0.000007</td>\n",
       "      <td>0.000005</td>\n",
       "      <td>189.125000</td>\n",
       "      <td>234.571429</td>\n",
       "      <td>14.000000</td>\n",
       "      <td>58.333333</td>\n",
       "      <td>1536.0</td>\n",
       "      <td>835.0</td>\n",
       "      <td>363.0</td>\n",
       "      <td>0.0</td>\n",
       "    </tr>\n",
       "    <tr>\n",
       "      <th>39</th>\n",
       "      <td>0.0</td>\n",
       "      <td>0.0</td>\n",
       "      <td>0.001152</td>\n",
       "      <td>0.001140</td>\n",
       "      <td>0.103493</td>\n",
       "      <td>0.066596</td>\n",
       "      <td>0.064488</td>\n",
       "      <td>0.106868</td>\n",
       "      <td>0.068777</td>\n",
       "      <td>0.067774</td>\n",
       "      <td>...</td>\n",
       "      <td>0.000005</td>\n",
       "      <td>0.000006</td>\n",
       "      <td>277.285714</td>\n",
       "      <td>266.285714</td>\n",
       "      <td>81.333333</td>\n",
       "      <td>117.000000</td>\n",
       "      <td>1536.0</td>\n",
       "      <td>0.0</td>\n",
       "      <td>0.0</td>\n",
       "      <td>0.0</td>\n",
       "    </tr>\n",
       "  </tbody>\n",
       "</table>\n",
       "<p>5 rows × 30 columns</p>\n",
       "</div>"
      ],
      "text/plain": [
       "    no_strokes_st  no_strokes_dy  speed_st  speed_dy  magnitude_vel_st  \\\n",
       "35            2.0            2.0  0.001592  0.001560          0.046842   \n",
       "36            2.0            2.0  0.001387  0.001339          0.088510   \n",
       "37           48.0          176.0  0.001201  0.001194          0.200499   \n",
       "38            6.0           10.0  0.001159  0.001157          0.150016   \n",
       "39            0.0            0.0  0.001152  0.001140          0.103493   \n",
       "\n",
       "    magnitude_horz_vel_st  magnitude_vert_vel_st  magnitude_vel_dy  \\\n",
       "35               0.029474               0.029731          0.042719   \n",
       "36               0.055965               0.055433          0.114583   \n",
       "37               0.124995               0.126018          0.175576   \n",
       "38               0.095055               0.095358          0.136387   \n",
       "39               0.066596               0.064488          0.106868   \n",
       "\n",
       "    magnitude_horz_vel_dy  magnitude_vert_vel_dy  ...  magnitude_horz_jerk_dy  \\\n",
       "35               0.026828               0.026851  ...                0.000004   \n",
       "36               0.073060               0.070357  ...                0.000006   \n",
       "37               0.111122               0.109489  ...                0.000007   \n",
       "38               0.090064               0.085038  ...                0.000007   \n",
       "39               0.068777               0.067774  ...                0.000005   \n",
       "\n",
       "    magnitude_vert_jerk_dy      ncv_st      ncv_dy      nca_st      nca_dy  \\\n",
       "35                0.000004  330.571429  324.571429  275.500000  282.000000   \n",
       "36                0.000005  224.222222  227.125000   71.500000   73.666667   \n",
       "37                0.000006  206.833333  276.400000   29.333333   74.500000   \n",
       "38                0.000005  189.125000  234.571429   14.000000   58.333333   \n",
       "39                0.000006  277.285714  266.285714   81.333333  117.000000   \n",
       "\n",
       "    in_air_stcp  on_surface_st  on_surface_dy  target  \n",
       "35       1536.0         5867.0         6558.0     0.0  \n",
       "36       1536.0         3029.0         2312.0     0.0  \n",
       "37       1536.0          572.0          575.0     0.0  \n",
       "38       1536.0          835.0          363.0     0.0  \n",
       "39       1536.0            0.0            0.0     0.0  \n",
       "\n",
       "[5 rows x 30 columns]"
      ]
     },
     "execution_count": 139,
     "metadata": {},
     "output_type": "execute_result"
    }
   ],
   "source": [
    "data.tail()"
   ]
  },
  {
   "cell_type": "code",
   "execution_count": 140,
   "metadata": {},
   "outputs": [
    {
     "data": {
      "text/html": [
       "<div>\n",
       "<style scoped>\n",
       "    .dataframe tbody tr th:only-of-type {\n",
       "        vertical-align: middle;\n",
       "    }\n",
       "\n",
       "    .dataframe tbody tr th {\n",
       "        vertical-align: top;\n",
       "    }\n",
       "\n",
       "    .dataframe thead th {\n",
       "        text-align: right;\n",
       "    }\n",
       "</style>\n",
       "<table border=\"1\" class=\"dataframe\">\n",
       "  <thead>\n",
       "    <tr style=\"text-align: right;\">\n",
       "      <th></th>\n",
       "      <th>no_strokes_st</th>\n",
       "      <th>no_strokes_dy</th>\n",
       "      <th>speed_st</th>\n",
       "      <th>speed_dy</th>\n",
       "      <th>magnitude_vel_st</th>\n",
       "      <th>magnitude_horz_vel_st</th>\n",
       "      <th>magnitude_vert_vel_st</th>\n",
       "      <th>magnitude_vel_dy</th>\n",
       "      <th>magnitude_horz_vel_dy</th>\n",
       "      <th>magnitude_vert_vel_dy</th>\n",
       "      <th>...</th>\n",
       "      <th>magnitude_horz_jerk_dy</th>\n",
       "      <th>magnitude_vert_jerk_dy</th>\n",
       "      <th>ncv_st</th>\n",
       "      <th>ncv_dy</th>\n",
       "      <th>nca_st</th>\n",
       "      <th>nca_dy</th>\n",
       "      <th>in_air_stcp</th>\n",
       "      <th>on_surface_st</th>\n",
       "      <th>on_surface_dy</th>\n",
       "      <th>target</th>\n",
       "    </tr>\n",
       "  </thead>\n",
       "  <tbody>\n",
       "    <tr>\n",
       "      <th>0</th>\n",
       "      <td>2.0</td>\n",
       "      <td>2.0</td>\n",
       "      <td>0.010988</td>\n",
       "      <td>0.009758</td>\n",
       "      <td>0.167357</td>\n",
       "      <td>0.116687</td>\n",
       "      <td>0.094172</td>\n",
       "      <td>0.201030</td>\n",
       "      <td>0.138797</td>\n",
       "      <td>0.114738</td>\n",
       "      <td>...</td>\n",
       "      <td>0.000006</td>\n",
       "      <td>0.000004</td>\n",
       "      <td>143.166667</td>\n",
       "      <td>308.000000</td>\n",
       "      <td>28.000000</td>\n",
       "      <td>65.000000</td>\n",
       "      <td>176.0</td>\n",
       "      <td>952.0</td>\n",
       "      <td>689.0</td>\n",
       "      <td>1.0</td>\n",
       "    </tr>\n",
       "    <tr>\n",
       "      <th>1</th>\n",
       "      <td>52.0</td>\n",
       "      <td>10.0</td>\n",
       "      <td>0.006874</td>\n",
       "      <td>0.006669</td>\n",
       "      <td>0.082170</td>\n",
       "      <td>0.053652</td>\n",
       "      <td>0.050760</td>\n",
       "      <td>0.071314</td>\n",
       "      <td>0.047286</td>\n",
       "      <td>0.043804</td>\n",
       "      <td>...</td>\n",
       "      <td>0.000004</td>\n",
       "      <td>0.000003</td>\n",
       "      <td>317.000000</td>\n",
       "      <td>345.200000</td>\n",
       "      <td>81.000000</td>\n",
       "      <td>83.333333</td>\n",
       "      <td>0.0</td>\n",
       "      <td>2107.0</td>\n",
       "      <td>2506.0</td>\n",
       "      <td>1.0</td>\n",
       "    </tr>\n",
       "    <tr>\n",
       "      <th>2</th>\n",
       "      <td>22.0</td>\n",
       "      <td>12.0</td>\n",
       "      <td>0.001636</td>\n",
       "      <td>0.001620</td>\n",
       "      <td>0.128316</td>\n",
       "      <td>0.083959</td>\n",
       "      <td>0.079109</td>\n",
       "      <td>0.068212</td>\n",
       "      <td>0.042802</td>\n",
       "      <td>0.043473</td>\n",
       "      <td>...</td>\n",
       "      <td>0.000003</td>\n",
       "      <td>0.000003</td>\n",
       "      <td>205.714286</td>\n",
       "      <td>262.285714</td>\n",
       "      <td>53.666667</td>\n",
       "      <td>83.000000</td>\n",
       "      <td>206.0</td>\n",
       "      <td>1369.0</td>\n",
       "      <td>2807.0</td>\n",
       "      <td>1.0</td>\n",
       "    </tr>\n",
       "    <tr>\n",
       "      <th>3</th>\n",
       "      <td>2.0</td>\n",
       "      <td>6.0</td>\n",
       "      <td>0.001793</td>\n",
       "      <td>0.001434</td>\n",
       "      <td>0.041127</td>\n",
       "      <td>0.026362</td>\n",
       "      <td>0.025751</td>\n",
       "      <td>0.059535</td>\n",
       "      <td>0.037716</td>\n",
       "      <td>0.038586</td>\n",
       "      <td>...</td>\n",
       "      <td>0.000002</td>\n",
       "      <td>0.000002</td>\n",
       "      <td>315.714286</td>\n",
       "      <td>299.666667</td>\n",
       "      <td>212.000000</td>\n",
       "      <td>285.000000</td>\n",
       "      <td>705.0</td>\n",
       "      <td>4025.0</td>\n",
       "      <td>2487.0</td>\n",
       "      <td>1.0</td>\n",
       "    </tr>\n",
       "    <tr>\n",
       "      <th>4</th>\n",
       "      <td>4.0</td>\n",
       "      <td>6.0</td>\n",
       "      <td>0.010127</td>\n",
       "      <td>0.009184</td>\n",
       "      <td>0.054456</td>\n",
       "      <td>0.035698</td>\n",
       "      <td>0.033174</td>\n",
       "      <td>0.076065</td>\n",
       "      <td>0.049734</td>\n",
       "      <td>0.048427</td>\n",
       "      <td>...</td>\n",
       "      <td>0.000002</td>\n",
       "      <td>0.000002</td>\n",
       "      <td>210.300000</td>\n",
       "      <td>319.500000</td>\n",
       "      <td>67.200000</td>\n",
       "      <td>262.000000</td>\n",
       "      <td>1221.0</td>\n",
       "      <td>2712.0</td>\n",
       "      <td>2337.0</td>\n",
       "      <td>1.0</td>\n",
       "    </tr>\n",
       "  </tbody>\n",
       "</table>\n",
       "<p>5 rows × 30 columns</p>\n",
       "</div>"
      ],
      "text/plain": [
       "   no_strokes_st  no_strokes_dy  speed_st  speed_dy  magnitude_vel_st  \\\n",
       "0            2.0            2.0  0.010988  0.009758          0.167357   \n",
       "1           52.0           10.0  0.006874  0.006669          0.082170   \n",
       "2           22.0           12.0  0.001636  0.001620          0.128316   \n",
       "3            2.0            6.0  0.001793  0.001434          0.041127   \n",
       "4            4.0            6.0  0.010127  0.009184          0.054456   \n",
       "\n",
       "   magnitude_horz_vel_st  magnitude_vert_vel_st  magnitude_vel_dy  \\\n",
       "0               0.116687               0.094172          0.201030   \n",
       "1               0.053652               0.050760          0.071314   \n",
       "2               0.083959               0.079109          0.068212   \n",
       "3               0.026362               0.025751          0.059535   \n",
       "4               0.035698               0.033174          0.076065   \n",
       "\n",
       "   magnitude_horz_vel_dy  magnitude_vert_vel_dy  ...  magnitude_horz_jerk_dy  \\\n",
       "0               0.138797               0.114738  ...                0.000006   \n",
       "1               0.047286               0.043804  ...                0.000004   \n",
       "2               0.042802               0.043473  ...                0.000003   \n",
       "3               0.037716               0.038586  ...                0.000002   \n",
       "4               0.049734               0.048427  ...                0.000002   \n",
       "\n",
       "   magnitude_vert_jerk_dy      ncv_st      ncv_dy      nca_st      nca_dy  \\\n",
       "0                0.000004  143.166667  308.000000   28.000000   65.000000   \n",
       "1                0.000003  317.000000  345.200000   81.000000   83.333333   \n",
       "2                0.000003  205.714286  262.285714   53.666667   83.000000   \n",
       "3                0.000002  315.714286  299.666667  212.000000  285.000000   \n",
       "4                0.000002  210.300000  319.500000   67.200000  262.000000   \n",
       "\n",
       "   in_air_stcp  on_surface_st  on_surface_dy  target  \n",
       "0        176.0          952.0          689.0     1.0  \n",
       "1          0.0         2107.0         2506.0     1.0  \n",
       "2        206.0         1369.0         2807.0     1.0  \n",
       "3        705.0         4025.0         2487.0     1.0  \n",
       "4       1221.0         2712.0         2337.0     1.0  \n",
       "\n",
       "[5 rows x 30 columns]"
      ]
     },
     "execution_count": 140,
     "metadata": {},
     "output_type": "execute_result"
    }
   ],
   "source": [
    "data.head()"
   ]
  },
  {
   "cell_type": "code",
   "execution_count": 141,
   "metadata": {},
   "outputs": [
    {
     "name": "stdout",
     "output_type": "stream",
     "text": [
      "train shape (35, 30)\n"
     ]
    }
   ],
   "source": [
    "pos=data[data['target']==1]\n",
    "neg=data[data['target']==0]\n",
    "\n",
    "train_pos=pos.head(pos.shape[0]-5)\n",
    "train_neg=neg.head(pos.shape[0]-5)\n",
    "train=pd.concat([train_pos, train_neg])\n",
    "print('train shape', train.shape)\n",
    "\n",
    "test_pos=pos.tail(5)\n",
    "test_neg=neg.tail(5)\n",
    "test=pd.concat([test_pos, test_neg])\n",
    "\n",
    "\n",
    "train_y=train['target']\n",
    "train_x=train.drop(['target'], axis=1)\n",
    "test_y=test['target']\n",
    "test_x=test.drop(['target'], axis=1)"
   ]
  },
  {
   "cell_type": "code",
   "execution_count": 142,
   "metadata": {},
   "outputs": [],
   "source": [
    "def accuracy(prediction,actual):\n",
    "    correct = 0\n",
    "    not_correct = 0\n",
    "    for i in range(len(prediction)):\n",
    "        if prediction[i] == actual[i]:\n",
    "            correct+=1\n",
    "        else:\n",
    "            not_correct+=1\n",
    "    return (correct*100)/(correct+not_correct)\n",
    "\n",
    "\n",
    "def metrics(prediction,actual):\n",
    "    tp = 0\n",
    "    tn = 0\n",
    "    fp = 0\n",
    "    fn = 0\n",
    "    for i in range(len(prediction)):\n",
    "        if prediction[i] == actual[i] and actual[i]==1:\n",
    "            tp+=1\n",
    "        if prediction[i] == actual[i] and actual[i]==0:\n",
    "            tn+=1\n",
    "        if prediction[i] != actual[i] and actual[i]==0:\n",
    "            fp+=1\n",
    "        if prediction[i] != actual[i] and actual[i]==1:\n",
    "            fn+=1\n",
    "    metrics = {'Precision':(tp/(tp+fp+tn+fn)),'Recall':(tp/(tp+fn)),'F1':(2*(tp/(tp+fp+tn+fn))*(tp/(tp+fn)))/((tp/(tp+fp+tn+fn))+(tp/(tp+fn)))}\n",
    "    return (metrics)"
   ]
  },
  {
   "cell_type": "code",
   "execution_count": 143,
   "metadata": {},
   "outputs": [],
   "source": [
    "from sklearn.linear_model import LogisticRegression\n",
    "from sklearn.ensemble import RandomForestClassifier\n",
    "from sklearn.svm import SVC\n",
    "from sklearn.tree import DecisionTreeClassifier\n",
    "from sklearn.neighbors import KNeighborsClassifier"
   ]
  },
  {
   "cell_type": "code",
   "execution_count": 150,
   "metadata": {},
   "outputs": [],
   "source": [
    "from sklearn.preprocessing import MinMaxScaler\n",
    "scaler=MinMaxScaler()\n",
    "train_x=scaler.fit_transform(train_x)\n",
    "test_x=scaler.fit_transform(test_x)\n"
   ]
  },
  {
   "cell_type": "code",
   "execution_count": 152,
   "metadata": {},
   "outputs": [
    {
     "data": {
      "text/plain": [
       "array([0.51552754, 0.48447246])"
      ]
     },
     "execution_count": 152,
     "metadata": {},
     "output_type": "execute_result"
    }
   ],
   "source": [
    "from sklearn.decomposition import PCA\n",
    "pca = PCA(n_components=2)\n",
    "train_x=pca.fit_transform(train_x)\n",
    "test_x=pca.fit_transform(test_x)\n",
    "variance=pca.explained_variance_ratio_\n",
    "variance"
   ]
  },
  {
   "cell_type": "code",
   "execution_count": 153,
   "metadata": {},
   "outputs": [
    {
     "name": "stdout",
     "output_type": "stream",
     "text": [
      "accuracy: 50.0 %\n",
      "{'Precision': 0.4, 'Recall': 0.5, 'F1': 0.4444444444444445}\n"
     ]
    }
   ],
   "source": [
    "clf=LogisticRegression()\n",
    "clf.fit(train_x, train_y)\n",
    "preds=clf.predict(test_x)\n",
    "print('accuracy:',accuracy(test_y.tolist(), preds.tolist()), '%')\n",
    "print(metrics(test_y.tolist(), preds.tolist()))"
   ]
  },
  {
   "cell_type": "code",
   "execution_count": 154,
   "metadata": {},
   "outputs": [
    {
     "name": "stdout",
     "output_type": "stream",
     "text": [
      "accuracy: 100.0 %\n",
      "{'Precision': 0.5, 'Recall': 1.0, 'F1': 0.6666666666666666}\n"
     ]
    }
   ],
   "source": [
    "clf=RandomForestClassifier()\n",
    "clf.fit(train_x, train_y)\n",
    "preds=clf.predict(test_x)\n",
    "print('accuracy:',accuracy(test_y.tolist(), preds.tolist()), '%')\n",
    "print(metrics(test_y.tolist(), preds.tolist()))"
   ]
  },
  {
   "cell_type": "code",
   "execution_count": 155,
   "metadata": {},
   "outputs": [
    {
     "name": "stdout",
     "output_type": "stream",
     "text": [
      "accuracy: 100.0 %\n",
      "{'Precision': 0.5, 'Recall': 1.0, 'F1': 0.6666666666666666}\n"
     ]
    }
   ],
   "source": [
    "clf=DecisionTreeClassifier()\n",
    "clf.fit(train_x, train_y)\n",
    "preds=clf.predict(test_x)\n",
    "print('accuracy:',accuracy(test_y.tolist(), preds.tolist()), '%')\n",
    "print(metrics(test_y.tolist(), preds.tolist()))"
   ]
  },
  {
   "cell_type": "code",
   "execution_count": 156,
   "metadata": {},
   "outputs": [
    {
     "name": "stdout",
     "output_type": "stream",
     "text": [
      "accuracy: 90.0 %\n",
      "{'Precision': 0.4, 'Recall': 1.0, 'F1': 0.5714285714285715}\n"
     ]
    }
   ],
   "source": [
    "clf=KNeighborsClassifier()\n",
    "clf.fit(train_x, train_y)\n",
    "preds=clf.predict(test_x)\n",
    "print('accuracy:',accuracy(test_y.tolist(), preds.tolist()), '%')\n",
    "print(metrics(test_y.tolist(), preds.tolist()))"
   ]
  },
  {
   "cell_type": "code",
   "execution_count": 157,
   "metadata": {},
   "outputs": [],
   "source": [
    "def plot(f, plot_func, t_id=0, x=None, y=None):\n",
    "    global header_row\n",
    "    df=pd.read_csv(f, sep=';', header=None, names=header_row)\n",
    "    df=df[df[\"Test_ID\"]==t_id]\n",
    "    initial_timestamp=df['Timestamp'][0]\n",
    "    df['Timestamp']=df['Timestamp']- initial_timestamp\n",
    "    plot_func(data=df, x=x, y=y, fit_reg=False, scatter_kws={\"s\": 0.5})"
   ]
  },
  {
   "cell_type": "code",
   "execution_count": 160,
   "metadata": {},
   "outputs": [
    {
     "data": {
      "image/png": "[encoded data removed]",
      "text/plain": [
       "<Figure size 432x288 with 1 Axes>"
      ]
     },
     "metadata": {
      "needs_background": "light"
     },
     "output_type": "display_data"
    }
   ],
   "source": [
    "plot(f=parkinson_file_list[20],  plot_func=sns.regplot, t_id=0, x='Timestamp', y='Pressure')"
   ]
  },
  {
   "cell_type": "code",
   "execution_count": 161,
   "metadata": {},
   "outputs": [
    {
     "data": {
      "image/png": "[encoded data removed]",
      "text/plain": [
       "<Figure size 432x288 with 1 Axes>"
      ]
     },
     "metadata": {
      "needs_background": "light"
     },
     "output_type": "display_data"
    }
   ],
   "source": [
    "plot(control_file_list[1], plot_func=sns.regplot, t_id=0, x='Timestamp', y='Pressure')"
   ]
  },
  {
   "cell_type": "code",
   "execution_count": null,
   "metadata": {},
   "outputs": [],
   "source": []
  }
 ],
 "metadata": {
  "kernelspec": {
   "display_name": "Python 3",
   "language": "python",
   "name": "python3"
  },
  "language_info": {
   "codemirror_mode": {
    "name": "ipython",
    "version": 3
   },
   "file_extension": ".py",
   "mimetype": "text/x-python",
   "name": "python",
   "nbconvert_exporter": "python",
   "pygments_lexer": "ipython3",
   "version": "3.8.5"
  }
 },
 "nbformat": 4,
 "nbformat_minor": 4
}
