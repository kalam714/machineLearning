{
 "cells": [
  {
   "cell_type": "code",
   "execution_count": 111,
   "metadata": {},
   "outputs": [
    {
     "data": {
      "text/plain": [
       "array(['HipHop', 'Dance'], dtype=object)"
      ]
     },
     "execution_count": 111,
     "metadata": {},
     "output_type": "execute_result"
    }
   ],
   "source": [
    "import pandas as pd\n",
    "from sklearn.tree import DecisionTreeClassifier\n",
    "import joblib\n",
    "# from sklearn.model_selection import train_test_split\n",
    "# from sklearn.metrics import accuracy_score\n",
    "# musicData = pd.read_csv('music.csv')\n",
    "# X = musicData.drop(columns=['Genra'])\n",
    "# y = musicData['Genra']\n",
    "# X_train,X_test,y_train,y_test = train_test_split(X,y,test_size=.25)\n",
    "\n",
    "# model = DecisionTreeClassifier()\n",
    "# model.fit(X,y)\n",
    "# joblib.dump(model,'music.joblib')\n",
    "# model.fit(X_train,y_train)\n",
    "model=joblib.load('music.joblib')\n",
    "result= model.predict([[21,1],[21,0]])\n",
    "result\n",
    "# score=accuracy_score(y_test,result)\n",
    "# score"
   ]
  },
  {
   "cell_type": "code",
   "execution_count": 119,
   "metadata": {},
   "outputs": [],
   "source": [
    "import pandas as pd\n",
    "from sklearn.tree import DecisionTreeClassifier\n",
    "from sklearn import tree \n",
    "musicData = pd.read_csv('music.csv')\n",
    "X=musicData.drop(columns=['Genra'])\n",
    "y=musicData['Genra']\n",
    "model = DecisionTreeClassifier()\n",
    "model.fit(X,y)\n",
    "tree.export_graphviz(model,out_file='music.dot',feature_names=['Age','Gender'],class_names=sorted(y.unique()),\n",
    "                    label='all',rounded=True,filled=True)"
   ]
  }
 ],
 "metadata": {
  "kernelspec": {
   "display_name": "Python 3",
   "language": "python",
   "name": "python3"
  },
  "language_info": {
   "codemirror_mode": {
    "name": "ipython",
    "version": 3
   },
   "file_extension": ".py",
   "mimetype": "text/x-python",
   "name": "python",
   "nbconvert_exporter": "python",
   "pygments_lexer": "ipython3",
   "version": "3.8.5"
  }
 },
 "nbformat": 4,
 "nbformat_minor": 4
}
